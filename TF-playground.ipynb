{
 "cells": [
  {
   "cell_type": "markdown",
   "metadata": {},
   "source": [
    "# Simple Linear Regression Example"
   ]
  },
  {
   "cell_type": "code",
   "execution_count": 1,
   "metadata": {},
   "outputs": [
    {
     "name": "stderr",
     "output_type": "stream",
     "text": [
      "/home/tammy/.virtualenvs/vision36/lib/python3.6/site-packages/h5py/__init__.py:36: FutureWarning: Conversion of the second argument of issubdtype from `float` to `np.floating` is deprecated. In future, it will be treated as `np.float64 == np.dtype(float).type`.\n",
      "  from ._conv import register_converters as _register_converters\n"
     ]
    }
   ],
   "source": [
    "import numpy as np\n",
    "import tensorflow as tf"
   ]
  },
  {
   "cell_type": "code",
   "execution_count": 20,
   "metadata": {},
   "outputs": [],
   "source": [
    "np.random.seed(101) # fix the random values generated to make the session repeatable\n",
    "tf.set_random_seed(101)"
   ]
  },
  {
   "cell_type": "code",
   "execution_count": 21,
   "metadata": {},
   "outputs": [],
   "source": [
    "rand_a = np.random.uniform(0, 100, (5,5))"
   ]
  },
  {
   "cell_type": "code",
   "execution_count": 22,
   "metadata": {},
   "outputs": [
    {
     "data": {
      "text/plain": [
       "array([[51.63986277, 57.06675869,  2.84742265, 17.15216562, 68.52769817],\n",
       "       [83.38968626, 30.69662197, 89.36130797, 72.15438618, 18.99389542],\n",
       "       [55.42275911, 35.2131954 , 18.18924027, 78.56017619, 96.54832224],\n",
       "       [23.23536618,  8.35614337, 60.35484223, 72.89927573, 27.62388285],\n",
       "       [68.53063288, 51.78674742,  4.84845374, 13.78692376, 18.69674261]])"
      ]
     },
     "execution_count": 22,
     "metadata": {},
     "output_type": "execute_result"
    }
   ],
   "source": [
    "rand_a"
   ]
  },
  {
   "cell_type": "code",
   "execution_count": 23,
   "metadata": {},
   "outputs": [],
   "source": [
    "rand_b = np.random.uniform(0,100, (5,1))"
   ]
  },
  {
   "cell_type": "code",
   "execution_count": 24,
   "metadata": {},
   "outputs": [],
   "source": [
    "a = tf.placeholder(tf.float32)"
   ]
  },
  {
   "cell_type": "code",
   "execution_count": 25,
   "metadata": {},
   "outputs": [],
   "source": [
    "b = tf.placeholder(tf.float32)"
   ]
  },
  {
   "cell_type": "code",
   "execution_count": 26,
   "metadata": {},
   "outputs": [
    {
     "data": {
      "text/plain": [
       "<function tensorflow.python.ops.math_ops.multiply>"
      ]
     },
     "execution_count": 26,
     "metadata": {},
     "output_type": "execute_result"
    }
   ],
   "source": [
    "tf.multiply # element wise"
   ]
  },
  {
   "cell_type": "code",
   "execution_count": 27,
   "metadata": {},
   "outputs": [],
   "source": [
    "add_op = a + b"
   ]
  },
  {
   "cell_type": "code",
   "execution_count": 28,
   "metadata": {},
   "outputs": [],
   "source": [
    "mul_op = a * b"
   ]
  },
  {
   "cell_type": "code",
   "execution_count": 30,
   "metadata": {},
   "outputs": [
    {
     "name": "stdout",
     "output_type": "stream",
     "text": [
      "[[151.07166  156.49855  102.27921  116.58396  167.95949 ]\n",
      " [135.45622   82.76316  141.42784  124.22093   71.06043 ]\n",
      " [113.30171   93.09215   76.06819  136.43912  154.42728 ]\n",
      " [ 96.71727   81.83804  133.83675  146.38118  101.10579 ]\n",
      " [122.72681  105.982925  59.044632  67.9831    72.89292 ]]\n",
      "[[5134.644   5674.25     283.12433 1705.4707  6813.8315 ]\n",
      " [4341.8125  1598.267   4652.734   3756.8293   988.94635]\n",
      " [3207.8113  2038.1029  1052.7742  4546.9805  5588.1157 ]\n",
      " [1707.379    614.02527 4434.989   5356.7773  2029.8555 ]\n",
      " [3714.0984  2806.6438   262.76764  747.19855 1013.292  ]]\n"
     ]
    }
   ],
   "source": [
    "with tf.Session() as sess:\n",
    "    # pass in placeholder operation as first arg, and values in a feed dict as second arg\n",
    "    add_result = sess.run(add_op, feed_dict={a:rand_a, b:rand_b}) \n",
    "    print(add_result)\n",
    "    mult_result = sess.run(mul_op, feed_dict={a:rand_a, b:rand_b})\n",
    "    print(mult_result)"
   ]
  },
  {
   "cell_type": "code",
   "execution_count": 31,
   "metadata": {},
   "outputs": [
    {
     "data": {
      "text/plain": [
       "array([[99.43179012],\n",
       "       [52.06653967],\n",
       "       [57.87895355],\n",
       "       [73.48190583],\n",
       "       [54.19617722]])"
      ]
     },
     "execution_count": 31,
     "metadata": {},
     "output_type": "execute_result"
    }
   ],
   "source": [
    "rand_b"
   ]
  },
  {
   "cell_type": "code",
   "execution_count": 14,
   "metadata": {},
   "outputs": [],
   "source": [
    "n_features = 10\n",
    "n_dense_neurons = 3"
   ]
  },
  {
   "cell_type": "code",
   "execution_count": 32,
   "metadata": {},
   "outputs": [],
   "source": [
    "x = tf.placeholder(tf.float32, (None, n_features))"
   ]
  },
  {
   "cell_type": "code",
   "execution_count": 33,
   "metadata": {},
   "outputs": [],
   "source": [
    "W = tf.Variable(tf.random_normal([n_features, n_dense_neurons]))\n",
    "b = tf.Variable(tf.ones([n_dense_neurons]))"
   ]
  },
  {
   "cell_type": "code",
   "execution_count": 39,
   "metadata": {},
   "outputs": [],
   "source": [
    "xW = tf.matmul(x, W)\n",
    "z = tf.add(xW, b)\n",
    "a = tf.sigmoid(z)"
   ]
  },
  {
   "cell_type": "code",
   "execution_count": 40,
   "metadata": {},
   "outputs": [],
   "source": [
    "init = tf.global_variables_initializer()\n",
    "with tf.Session() as sess:\n",
    "    sess.run(init)\n",
    "    layer_out = sess.run(a, feed_dict={x:np.random.random([1, n_features])})\n",
    "    "
   ]
  },
  {
   "cell_type": "code",
   "execution_count": 41,
   "metadata": {},
   "outputs": [
    {
     "name": "stdout",
     "output_type": "stream",
     "text": [
      "[[0.02519322 0.95843285 0.04612376]]\n"
     ]
    }
   ],
   "source": [
    "print(layer_out)"
   ]
  },
  {
   "cell_type": "code",
   "execution_count": 44,
   "metadata": {},
   "outputs": [],
   "source": [
    "## Simple regression problem"
   ]
  },
  {
   "cell_type": "code",
   "execution_count": 45,
   "metadata": {},
   "outputs": [],
   "source": [
    "x_data = np.linspace(0,10,10) + np.random.uniform(-1.5,1.5,10)"
   ]
  },
  {
   "cell_type": "code",
   "execution_count": 46,
   "metadata": {},
   "outputs": [
    {
     "data": {
      "text/plain": [
       "array([-1.20856056, -0.08034641,  2.82674411,  4.50477294,  3.42312535,\n",
       "        4.88227319,  7.18414126,  6.77068715,  9.4930023 ,  9.96290567])"
      ]
     },
     "execution_count": 46,
     "metadata": {},
     "output_type": "execute_result"
    }
   ],
   "source": [
    "x_data"
   ]
  },
  {
   "cell_type": "code",
   "execution_count": 47,
   "metadata": {},
   "outputs": [],
   "source": [
    "y_label = np.linspace(0,10,10)+np.random.uniform(-1.5,1.5,10)"
   ]
  },
  {
   "cell_type": "code",
   "execution_count": 48,
   "metadata": {},
   "outputs": [],
   "source": [
    "import matplotlib.pyplot as plt\n",
    "%matplotlib inline"
   ]
  },
  {
   "cell_type": "code",
   "execution_count": 50,
   "metadata": {},
   "outputs": [
    {
     "data": {
      "text/plain": [
       "[<matplotlib.lines.Line2D at 0x7f1a0997fcc0>]"
      ]
     },
     "execution_count": 50,
     "metadata": {},
     "output_type": "execute_result"
    },
    {
     "data": {
      "image/png": "[encoded data removed]",
      "text/plain": [
       "<matplotlib.figure.Figure at 0x7f1a0ba025c0>"
      ]
     },
     "metadata": {},
     "output_type": "display_data"
    }
   ],
   "source": [
    "plt.plot(x_data, y_label, '*')"
   ]
  },
  {
   "cell_type": "code",
   "execution_count": 51,
   "metadata": {},
   "outputs": [],
   "source": [
    "# y = mx+b"
   ]
  },
  {
   "cell_type": "code",
   "execution_count": 52,
   "metadata": {},
   "outputs": [],
   "source": [
    "np.random.rand(2)\n",
    "m = tf.Variable(0.44)\n",
    "b = tf.Variable(0.87)"
   ]
  },
  {
   "cell_type": "code",
   "execution_count": 55,
   "metadata": {},
   "outputs": [],
   "source": [
    "error = 0\n",
    "\n",
    "for x, y in zip(x_data, y_label):\n",
    "    y_hat = m*x+b\n",
    "    error += (y-y_hat)**2     # cost function\n",
    "    "
   ]
  },
  {
   "cell_type": "code",
   "execution_count": 56,
   "metadata": {},
   "outputs": [],
   "source": [
    "optimizer = tf.train.GradientDescentOptimizer(learning_rate=0.001)\n",
    "train = optimizer.minimize(error)"
   ]
  },
  {
   "cell_type": "code",
   "execution_count": 58,
   "metadata": {},
   "outputs": [],
   "source": [
    "init = tf.global_variables_initializer()\n",
    "with tf.Session() as sess:\n",
    "    sess.run(init)\n",
    "    # how many training steps to take\n",
    "    training_steps = 1\n",
    "    for i in range(training_steps):\n",
    "        sess.run(train)\n",
    "    final_slope, final_intercept = sess.run([m,b])"
   ]
  },
  {
   "cell_type": "code",
   "execution_count": 59,
   "metadata": {},
   "outputs": [],
   "source": [
    "x_test = np.linspace(-1,11,10)\n",
    "\n",
    "#y = mx+b\n",
    "y_pred_plot = final_slope*x_test + final_intercept"
   ]
  },
  {
   "cell_type": "code",
   "execution_count": 60,
   "metadata": {},
   "outputs": [
    {
     "data": {
      "text/plain": [
       "[<matplotlib.lines.Line2D at 0x7f1a09189828>]"
      ]
     },
     "execution_count": 60,
     "metadata": {},
     "output_type": "execute_result"
    },
    {
     "data": {
      "image/png": "[encoded data removed]",
      "text/plain": [
       "<matplotlib.figure.Figure at 0x7f1a09189748>"
      ]
     },
     "metadata": {},
     "output_type": "display_data"
    }
   ],
   "source": [
    "plt.plot(x_test, y_pred_plot, 'r')\n",
    "plt.plot(x_data, y_label, '*')"
   ]
  },
  {
   "cell_type": "markdown",
   "metadata": {},
   "source": [
    "# More realistic regression example with estimator"
   ]
  },
  {
   "cell_type": "code",
   "execution_count": 64,
   "metadata": {},
   "outputs": [],
   "source": [
    "import numpy as np\n",
    "import pandas as pd\n",
    "import matplotlib.pyplot as plt\n",
    "%matplotlib inline\n",
    "import tensorflow as tf"
   ]
  },
  {
   "cell_type": "code",
   "execution_count": 68,
   "metadata": {},
   "outputs": [],
   "source": [
    "# creating way more data points and adding noise\n",
    "x_data = np.linspace(0.0, 10.0, 1000000)\n",
    "noise = np.random.randn(len(x_data))"
   ]
  },
  {
   "cell_type": "code",
   "execution_count": 70,
   "metadata": {},
   "outputs": [],
   "source": [
    "# y = mx+b; b=5\n",
    "y_true = (0.5*x_data) +5 + noise  # create a noisy line "
   ]
  },
  {
   "cell_type": "code",
   "execution_count": 73,
   "metadata": {},
   "outputs": [],
   "source": [
    "x_df = pd.DataFrame(data=x_data, columns=['X Data'])\n",
    "y_df = pd.DataFrame(data=y_true, columns=['Y'])\n",
    "my_data = pd.concat([x_df, y_df], axis=1)   # concat along the column"
   ]
  },
  {
   "cell_type": "code",
   "execution_count": 75,
   "metadata": {},
   "outputs": [
    {
     "data": {
      "text/plain": [
       "<matplotlib.axes._subplots.AxesSubplot at 0x7f1a79d37f98>"
      ]
     },
     "execution_count": 75,
     "metadata": {},
     "output_type": "execute_result"
    },
    {
     "data": {
      "image/png": "[encoded data removed]",
      "text/plain": [
       "<matplotlib.figure.Figure at 0x7f1a09245be0>"
      ]
     },
     "metadata": {},
     "output_type": "display_data"
    }
   ],
   "source": [
    "my_data.sample(n=250).plot(kind='scatter', x='X Data', y='Y')   # random samples to hep create plot\n"
   ]
  },
  {
   "cell_type": "code",
   "execution_count": 76,
   "metadata": {},
   "outputs": [],
   "source": [
    "# make TF try to fit a line\n",
    "# 1. Define Variables\n",
    "# 2. Define placeholders\n",
    "# 3. Define graph/operation\n",
    "# 4. Define optimizer\n",
    "# 5. Initialize variables\n",
    "# 6. Train"
   ]
  },
  {
   "cell_type": "markdown",
   "metadata": {},
   "source": [
    "### Batching"
   ]
  },
  {
   "cell_type": "code",
   "execution_count": 77,
   "metadata": {},
   "outputs": [],
   "source": [
    "batch_size = 8\n",
    "# initiate slope and intercept with random numbers\n",
    "m = tf.Variable(0.81)\n",
    "b=tf.Variable(0.17)"
   ]
  },
  {
   "cell_type": "code",
   "execution_count": 78,
   "metadata": {},
   "outputs": [],
   "source": [
    "xph = tf.placeholder(tf.float32, [batch_size])\n",
    "yph = tf.placeholder(tf.float32, [batch_size])\n",
    "y_model = m*xph + b    # graph or operation\n",
    "error = tf.reduce_sum(tf.square(yph-y_model))"
   ]
  },
  {
   "cell_type": "code",
   "execution_count": 80,
   "metadata": {},
   "outputs": [],
   "source": [
    "optimizer = tf.train.GradientDescentOptimizer(learning_rate=0.001)\n",
    "train = optimizer.minimize(error)"
   ]
  },
  {
   "cell_type": "code",
   "execution_count": 81,
   "metadata": {},
   "outputs": [],
   "source": [
    "init = tf.global_variables_initializer()"
   ]
  },
  {
   "cell_type": "code",
   "execution_count": 82,
   "metadata": {},
   "outputs": [],
   "source": [
    "with tf.Session() as sess:\n",
    "    sess.run(init)\n",
    "    batches = 1000\n",
    "    for i in range(batches):\n",
    "        # choose batchsize number of random points\n",
    "        rand_ind = np.random.randint(len(x_data), size=batch_size)\n",
    "        feed = {xph:x_data[rand_ind], yph:y_true[rand_ind]}\n",
    "        sess.run(train, feed_dict=feed)\n",
    "    model_m, model_b = sess.run([m, b]) \n"
   ]
  },
  {
   "cell_type": "code",
   "execution_count": 99,
   "metadata": {},
   "outputs": [
    {
     "data": {
      "text/plain": [
       "array([ 58692, 645677, 212173, 270618,  80577, 876231, 721366, 127002])"
      ]
     },
     "execution_count": 99,
     "metadata": {},
     "output_type": "execute_result"
    }
   ],
   "source": [
    "rand_ind = np.random.randint(len(x_data), size=batch_size)\n",
    "rand_ind\n"
   ]
  },
  {
   "cell_type": "code",
   "execution_count": 84,
   "metadata": {},
   "outputs": [
    {
     "data": {
      "text/plain": [
       "<tf.Variable 'Variable_7:0' shape=() dtype=float32_ref>"
      ]
     },
     "execution_count": 84,
     "metadata": {},
     "output_type": "execute_result"
    }
   ],
   "source": [
    "b"
   ]
  },
  {
   "cell_type": "code",
   "execution_count": 85,
   "metadata": {},
   "outputs": [
    {
     "data": {
      "text/plain": [
       "4.922171"
      ]
     },
     "execution_count": 85,
     "metadata": {},
     "output_type": "execute_result"
    }
   ],
   "source": [
    "model_b"
   ]
  },
  {
   "cell_type": "code",
   "execution_count": 86,
   "metadata": {},
   "outputs": [],
   "source": [
    "y_hat = x_data*model_m + model_b"
   ]
  },
  {
   "cell_type": "code",
   "execution_count": 88,
   "metadata": {},
   "outputs": [
    {
     "data": {
      "text/plain": [
       "[<matplotlib.lines.Line2D at 0x7f1a08300588>]"
      ]
     },
     "execution_count": 88,
     "metadata": {},
     "output_type": "execute_result"
    },
    {
     "data": {
      "image/png": "[encoded data removed]",
      "text/plain": [
       "<matplotlib.figure.Figure at 0x7f1a081e4978>"
      ]
     },
     "metadata": {},
     "output_type": "display_data"
    }
   ],
   "source": [
    "my_data.sample(250).plot(kind='scatter', x='X Data', y='Y')\n",
    "plt.plot(x_data, y_hat, 'r')"
   ]
  },
  {
   "cell_type": "code",
   "execution_count": 89,
   "metadata": {},
   "outputs": [],
   "source": [
    "feat_cols = [tf.feature_column.numeric_column('x', shape=[1])]"
   ]
  },
  {
   "cell_type": "code",
   "execution_count": 91,
   "metadata": {},
   "outputs": [
    {
     "name": "stdout",
     "output_type": "stream",
     "text": [
      "INFO:tensorflow:Using default config.\n",
      "WARNING:tensorflow:Using temporary folder as model directory: /tmp/tmpotr59q6t\n",
      "INFO:tensorflow:Using config: {'_model_dir': '/tmp/tmpotr59q6t', '_tf_random_seed': None, '_save_summary_steps': 100, '_save_checkpoints_steps': None, '_save_checkpoints_secs': 600, '_session_config': None, '_keep_checkpoint_max': 5, '_keep_checkpoint_every_n_hours': 10000, '_log_step_count_steps': 100, '_service': None, '_cluster_spec': <tensorflow.python.training.server_lib.ClusterSpec object at 0x7f1a082cd0b8>, '_task_type': 'worker', '_task_id': 0, '_master': '', '_is_chief': True, '_num_ps_replicas': 0, '_num_worker_replicas': 1}\n"
     ]
    }
   ],
   "source": [
    "estimator = tf.estimator.LinearRegressor(feature_columns=feat_cols)"
   ]
  },
  {
   "cell_type": "code",
   "execution_count": 92,
   "metadata": {},
   "outputs": [],
   "source": [
    "from sklearn.model_selection import train_test_split"
   ]
  },
  {
   "cell_type": "code",
   "execution_count": 95,
   "metadata": {},
   "outputs": [
    {
     "name": "stdout",
     "output_type": "stream",
     "text": [
      "(700000,) (300000,)\n"
     ]
    }
   ],
   "source": [
    "x_train, x_eval, y_train, y_eval = train_test_split(x_data, y_true, test_size=0.3, random_state=101)\n",
    "print(x_train.shape, x_eval.shape)"
   ]
  },
  {
   "cell_type": "code",
   "execution_count": 104,
   "metadata": {},
   "outputs": [],
   "source": [
    "# input to estimator basically replaces the batching preparation\n",
    "# using numpy input function, alternative: pandas input function\n",
    "input_func = tf.estimator.inputs.numpy_input_fn({'x': x_train}, y_train, \n",
    "                                                batch_size=8, num_epochs=None, shuffle=True)\n",
    "train_input_func = tf.estimator.inputs.numpy_input_fn({'x': x_train}, y_train, \n",
    "                                                batch_size=8, num_epochs=1000, shuffle=False)\n",
    "eval_input_func =  tf.estimator.inputs.numpy_input_fn({'x': x_eval}, y_eval, \n",
    "                                                batch_size=8, num_epochs=1000, shuffle=False)"
   ]
  },
  {
   "cell_type": "code",
   "execution_count": 105,
   "metadata": {},
   "outputs": [
    {
     "name": "stdout",
     "output_type": "stream",
     "text": [
      "INFO:tensorflow:Create CheckpointSaverHook.\n",
      "INFO:tensorflow:Restoring parameters from /tmp/tmpotr59q6t/model.ckpt-1000\n",
      "INFO:tensorflow:Saving checkpoints for 1001 into /tmp/tmpotr59q6t/model.ckpt.\n",
      "INFO:tensorflow:loss = 3.9461455, step = 1001\n",
      "INFO:tensorflow:global_step/sec: 1027.64\n",
      "INFO:tensorflow:loss = 6.2932196, step = 1101 (0.101 sec)\n",
      "INFO:tensorflow:global_step/sec: 945.969\n",
      "INFO:tensorflow:loss = 9.30118, step = 1201 (0.104 sec)\n",
      "INFO:tensorflow:global_step/sec: 969.577\n",
      "INFO:tensorflow:loss = 9.390989, step = 1301 (0.102 sec)\n",
      "INFO:tensorflow:global_step/sec: 968.567\n",
      "INFO:tensorflow:loss = 4.4436245, step = 1401 (0.104 sec)\n",
      "INFO:tensorflow:global_step/sec: 1015.06\n",
      "INFO:tensorflow:loss = 4.4561505, step = 1501 (0.099 sec)\n",
      "INFO:tensorflow:global_step/sec: 1003.08\n",
      "INFO:tensorflow:loss = 3.7643132, step = 1601 (0.100 sec)\n",
      "INFO:tensorflow:global_step/sec: 953.036\n",
      "INFO:tensorflow:loss = 21.95139, step = 1701 (0.103 sec)\n",
      "INFO:tensorflow:global_step/sec: 1084.54\n",
      "INFO:tensorflow:loss = 6.4877167, step = 1801 (0.092 sec)\n",
      "INFO:tensorflow:global_step/sec: 966.073\n",
      "INFO:tensorflow:loss = 1.3723314, step = 1901 (0.104 sec)\n",
      "INFO:tensorflow:Saving checkpoints for 2000 into /tmp/tmpotr59q6t/model.ckpt.\n",
      "INFO:tensorflow:Loss for final step: 13.5889.\n"
     ]
    },
    {
     "data": {
      "text/plain": [
       "<tensorflow.python.estimator.canned.linear.LinearRegressor at 0x7f1a08311b70>"
      ]
     },
     "execution_count": 105,
     "metadata": {},
     "output_type": "execute_result"
    }
   ],
   "source": [
    "estimator.train(input_fn=input_func, steps=1000)"
   ]
  },
  {
   "cell_type": "code",
   "execution_count": 106,
   "metadata": {},
   "outputs": [
    {
     "name": "stdout",
     "output_type": "stream",
     "text": [
      "INFO:tensorflow:Starting evaluation at 2018-04-14-22:56:40\n",
      "INFO:tensorflow:Restoring parameters from /tmp/tmpotr59q6t/model.ckpt-2000\n",
      "INFO:tensorflow:Evaluation [100/1000]\n",
      "INFO:tensorflow:Evaluation [200/1000]\n",
      "INFO:tensorflow:Evaluation [300/1000]\n",
      "INFO:tensorflow:Evaluation [400/1000]\n",
      "INFO:tensorflow:Evaluation [500/1000]\n",
      "INFO:tensorflow:Evaluation [600/1000]\n",
      "INFO:tensorflow:Evaluation [700/1000]\n",
      "INFO:tensorflow:Evaluation [800/1000]\n",
      "INFO:tensorflow:Evaluation [900/1000]\n",
      "INFO:tensorflow:Evaluation [1000/1000]\n",
      "INFO:tensorflow:Finished evaluation at 2018-04-14-22:56:41\n",
      "INFO:tensorflow:Saving dict for global step 2000: average_loss = 1.0253962, global_step = 2000, loss = 8.20317\n"
     ]
    }
   ],
   "source": [
    "train_metrics = estimator.evaluate(train_input_func, steps=1000)   # do not want to shuffle anything to evaluate"
   ]
  },
  {
   "cell_type": "code",
   "execution_count": 107,
   "metadata": {},
   "outputs": [
    {
     "name": "stdout",
     "output_type": "stream",
     "text": [
      "INFO:tensorflow:Starting evaluation at 2018-04-14-22:57:59\n",
      "INFO:tensorflow:Restoring parameters from /tmp/tmpotr59q6t/model.ckpt-2000\n",
      "INFO:tensorflow:Evaluation [100/1000]\n",
      "INFO:tensorflow:Evaluation [200/1000]\n",
      "INFO:tensorflow:Evaluation [300/1000]\n",
      "INFO:tensorflow:Evaluation [400/1000]\n",
      "INFO:tensorflow:Evaluation [500/1000]\n",
      "INFO:tensorflow:Evaluation [600/1000]\n",
      "INFO:tensorflow:Evaluation [700/1000]\n",
      "INFO:tensorflow:Evaluation [800/1000]\n",
      "INFO:tensorflow:Evaluation [900/1000]\n",
      "INFO:tensorflow:Evaluation [1000/1000]\n",
      "INFO:tensorflow:Finished evaluation at 2018-04-14-22:58:00\n",
      "INFO:tensorflow:Saving dict for global step 2000: average_loss = 1.0266472, global_step = 2000, loss = 8.213178\n"
     ]
    }
   ],
   "source": [
    "eval_metrics = estimator.evaluate(input_fn=eval_input_func, steps=1000)    # test metrics"
   ]
  },
  {
   "cell_type": "code",
   "execution_count": 108,
   "metadata": {},
   "outputs": [
    {
     "name": "stdout",
     "output_type": "stream",
     "text": [
      "{'average_loss': 1.0253962, 'loss': 8.20317, 'global_step': 2000}\n"
     ]
    }
   ],
   "source": [
    "print(train_metrics)"
   ]
  },
  {
   "cell_type": "code",
   "execution_count": 109,
   "metadata": {},
   "outputs": [
    {
     "name": "stdout",
     "output_type": "stream",
     "text": [
      "{'average_loss': 1.0266472, 'loss': 8.213178, 'global_step': 2000}\n"
     ]
    }
   ],
   "source": [
    "print(eval_metrics)   # training data loss similar to eval data loss, low loss."
   ]
  },
  {
   "cell_type": "code",
   "execution_count": 112,
   "metadata": {},
   "outputs": [],
   "source": [
    "brand_new_data = np.linspace(0, 10, 10)\n",
    "input_fn_predict = tf.estimator.inputs.numpy_input_fn({'x': brand_new_data}, shuffle=False)\n"
   ]
  },
  {
   "cell_type": "code",
   "execution_count": 114,
   "metadata": {},
   "outputs": [
    {
     "name": "stdout",
     "output_type": "stream",
     "text": [
      "INFO:tensorflow:Restoring parameters from /tmp/tmpotr59q6t/model.ckpt-2000\n"
     ]
    },
    {
     "data": {
      "text/plain": [
       "[{'predictions': array([4.900576], dtype=float32)},\n",
       " {'predictions': array([5.4654593], dtype=float32)},\n",
       " {'predictions': array([6.0303426], dtype=float32)},\n",
       " {'predictions': array([6.595226], dtype=float32)},\n",
       " {'predictions': array([7.160109], dtype=float32)},\n",
       " {'predictions': array([7.724992], dtype=float32)},\n",
       " {'predictions': array([8.289875], dtype=float32)},\n",
       " {'predictions': array([8.854758], dtype=float32)},\n",
       " {'predictions': array([9.4196415], dtype=float32)},\n",
       " {'predictions': array([9.984526], dtype=float32)}]"
      ]
     },
     "execution_count": 114,
     "metadata": {},
     "output_type": "execute_result"
    }
   ],
   "source": [
    "list(estimator.predict(input_fn=input_fn_predict))"
   ]
  },
  {
   "cell_type": "code",
   "execution_count": 115,
   "metadata": {},
   "outputs": [
    {
     "name": "stdout",
     "output_type": "stream",
     "text": [
      "INFO:tensorflow:Restoring parameters from /tmp/tmpotr59q6t/model.ckpt-2000\n"
     ]
    }
   ],
   "source": [
    "predictions = []\n",
    "\n",
    "for pred in estimator.predict(input_fn=input_fn_predict):\n",
    "    predictions.append(pred['predictions'])"
   ]
  },
  {
   "cell_type": "code",
   "execution_count": 116,
   "metadata": {},
   "outputs": [
    {
     "data": {
      "text/plain": [
       "[array([4.900576], dtype=float32),\n",
       " array([5.4654593], dtype=float32),\n",
       " array([6.0303426], dtype=float32),\n",
       " array([6.595226], dtype=float32),\n",
       " array([7.160109], dtype=float32),\n",
       " array([7.724992], dtype=float32),\n",
       " array([8.289875], dtype=float32),\n",
       " array([8.854758], dtype=float32),\n",
       " array([9.4196415], dtype=float32),\n",
       " array([9.984526], dtype=float32)]"
      ]
     },
     "execution_count": 116,
     "metadata": {},
     "output_type": "execute_result"
    }
   ],
   "source": [
    "predictions"
   ]
  },
  {
   "cell_type": "code",
   "execution_count": 118,
   "metadata": {},
   "outputs": [
    {
     "data": {
      "text/plain": [
       "[<matplotlib.lines.Line2D at 0x7f19ff796898>]"
      ]
     },
     "execution_count": 118,
     "metadata": {},
     "output_type": "execute_result"
    },
    {
     "data": {
      "image/png": "[encoded data removed]",
      "text/plain": [
       "<matplotlib.figure.Figure at 0x7f19ff796c18>"
      ]
     },
     "metadata": {},
     "output_type": "display_data"
    }
   ],
   "source": [
    "my_data.sample(250).plot(kind='scatter', x='X Data', y='Y')\n",
    "plt.plot(brand_new_data, predictions, 'r*')"
   ]
  },
  {
   "cell_type": "markdown",
   "metadata": {},
   "source": [
    "# Forest Type Multi-class Classification"
   ]
  },
  {
   "cell_type": "markdown",
   "metadata": {},
   "source": [
    "##### Downloaded the dataset from UCI website : https://archive.ics.uci.edu/ml/datasets/covertype\n",
    "Thought it may be interesting to try and design a ML classification problem and try to predict the forest cover type. There are 4 distinct cover types in this dataset. "
   ]
  },
  {
   "cell_type": "code",
   "execution_count": 15,
   "metadata": {},
   "outputs": [],
   "source": [
    "import pandas as pd\n",
    "import os\n",
    "from os import path as osp\n",
    "import tensorflow as tf"
   ]
  },
  {
   "cell_type": "code",
   "execution_count": 16,
   "metadata": {},
   "outputs": [],
   "source": [
    "folder = '/home/tammy/Downloads/Forest_types'"
   ]
  },
  {
   "cell_type": "code",
   "execution_count": 17,
   "metadata": {},
   "outputs": [],
   "source": [
    "train = pd.read_csv(osp.join(folder, 'training.csv'))"
   ]
  },
  {
   "cell_type": "code",
   "execution_count": 18,
   "metadata": {},
   "outputs": [
    {
     "data": {
      "text/html": [
       "<div>\n",
       "<style scoped>\n",
       "    .dataframe tbody tr th:only-of-type {\n",
       "        vertical-align: middle;\n",
       "    }\n",
       "\n",
       "    .dataframe tbody tr th {\n",
       "        vertical-align: top;\n",
       "    }\n",
       "\n",
       "    .dataframe thead th {\n",
       "        text-align: right;\n",
       "    }\n",
       "</style>\n",
       "<table border=\"1\" class=\"dataframe\">\n",
       "  <thead>\n",
       "    <tr style=\"text-align: right;\">\n",
       "      <th></th>\n",
       "      <th>class</th>\n",
       "      <th>b1</th>\n",
       "      <th>b2</th>\n",
       "      <th>b3</th>\n",
       "      <th>b4</th>\n",
       "      <th>b5</th>\n",
       "      <th>b6</th>\n",
       "      <th>b7</th>\n",
       "      <th>b8</th>\n",
       "      <th>b9</th>\n",
       "      <th>...</th>\n",
       "      <th>pred_minus_obs_H_b9</th>\n",
       "      <th>pred_minus_obs_S_b1</th>\n",
       "      <th>pred_minus_obs_S_b2</th>\n",
       "      <th>pred_minus_obs_S_b3</th>\n",
       "      <th>pred_minus_obs_S_b4</th>\n",
       "      <th>pred_minus_obs_S_b5</th>\n",
       "      <th>pred_minus_obs_S_b6</th>\n",
       "      <th>pred_minus_obs_S_b7</th>\n",
       "      <th>pred_minus_obs_S_b8</th>\n",
       "      <th>pred_minus_obs_S_b9</th>\n",
       "    </tr>\n",
       "  </thead>\n",
       "  <tbody>\n",
       "    <tr>\n",
       "      <th>0</th>\n",
       "      <td>d</td>\n",
       "      <td>39</td>\n",
       "      <td>36</td>\n",
       "      <td>57</td>\n",
       "      <td>91</td>\n",
       "      <td>59</td>\n",
       "      <td>101</td>\n",
       "      <td>93</td>\n",
       "      <td>27</td>\n",
       "      <td>60</td>\n",
       "      <td>...</td>\n",
       "      <td>-2.36</td>\n",
       "      <td>-18.41</td>\n",
       "      <td>-1.88</td>\n",
       "      <td>-6.43</td>\n",
       "      <td>-21.03</td>\n",
       "      <td>-1.60</td>\n",
       "      <td>-6.18</td>\n",
       "      <td>-22.50</td>\n",
       "      <td>-5.20</td>\n",
       "      <td>-7.86</td>\n",
       "    </tr>\n",
       "    <tr>\n",
       "      <th>1</th>\n",
       "      <td>h</td>\n",
       "      <td>84</td>\n",
       "      <td>30</td>\n",
       "      <td>57</td>\n",
       "      <td>112</td>\n",
       "      <td>51</td>\n",
       "      <td>98</td>\n",
       "      <td>92</td>\n",
       "      <td>26</td>\n",
       "      <td>62</td>\n",
       "      <td>...</td>\n",
       "      <td>-2.26</td>\n",
       "      <td>-16.27</td>\n",
       "      <td>-1.95</td>\n",
       "      <td>-6.25</td>\n",
       "      <td>-18.79</td>\n",
       "      <td>-1.99</td>\n",
       "      <td>-6.18</td>\n",
       "      <td>-23.41</td>\n",
       "      <td>-8.87</td>\n",
       "      <td>-10.83</td>\n",
       "    </tr>\n",
       "    <tr>\n",
       "      <th>2</th>\n",
       "      <td>s</td>\n",
       "      <td>53</td>\n",
       "      <td>25</td>\n",
       "      <td>49</td>\n",
       "      <td>99</td>\n",
       "      <td>51</td>\n",
       "      <td>93</td>\n",
       "      <td>84</td>\n",
       "      <td>26</td>\n",
       "      <td>58</td>\n",
       "      <td>...</td>\n",
       "      <td>-1.46</td>\n",
       "      <td>-15.92</td>\n",
       "      <td>-1.79</td>\n",
       "      <td>-4.64</td>\n",
       "      <td>-17.73</td>\n",
       "      <td>-0.48</td>\n",
       "      <td>-4.69</td>\n",
       "      <td>-19.97</td>\n",
       "      <td>-4.10</td>\n",
       "      <td>-7.07</td>\n",
       "    </tr>\n",
       "    <tr>\n",
       "      <th>3</th>\n",
       "      <td>s</td>\n",
       "      <td>59</td>\n",
       "      <td>26</td>\n",
       "      <td>49</td>\n",
       "      <td>103</td>\n",
       "      <td>47</td>\n",
       "      <td>92</td>\n",
       "      <td>82</td>\n",
       "      <td>25</td>\n",
       "      <td>56</td>\n",
       "      <td>...</td>\n",
       "      <td>2.68</td>\n",
       "      <td>-13.77</td>\n",
       "      <td>-2.53</td>\n",
       "      <td>-6.34</td>\n",
       "      <td>-22.03</td>\n",
       "      <td>-2.34</td>\n",
       "      <td>-6.60</td>\n",
       "      <td>-27.10</td>\n",
       "      <td>-7.99</td>\n",
       "      <td>-10.81</td>\n",
       "    </tr>\n",
       "    <tr>\n",
       "      <th>4</th>\n",
       "      <td>d</td>\n",
       "      <td>57</td>\n",
       "      <td>49</td>\n",
       "      <td>66</td>\n",
       "      <td>103</td>\n",
       "      <td>64</td>\n",
       "      <td>106</td>\n",
       "      <td>114</td>\n",
       "      <td>28</td>\n",
       "      <td>59</td>\n",
       "      <td>...</td>\n",
       "      <td>-2.94</td>\n",
       "      <td>-21.74</td>\n",
       "      <td>-1.64</td>\n",
       "      <td>-4.62</td>\n",
       "      <td>-23.74</td>\n",
       "      <td>-0.85</td>\n",
       "      <td>-5.50</td>\n",
       "      <td>-22.83</td>\n",
       "      <td>-2.74</td>\n",
       "      <td>-5.84</td>\n",
       "    </tr>\n",
       "  </tbody>\n",
       "</table>\n",
       "<p>5 rows × 28 columns</p>\n",
       "</div>"
      ],
      "text/plain": [
       "  class  b1  b2  b3   b4  b5   b6   b7  b8  b9         ...           \\\n",
       "0    d   39  36  57   91  59  101   93  27  60         ...            \n",
       "1    h   84  30  57  112  51   98   92  26  62         ...            \n",
       "2    s   53  25  49   99  51   93   84  26  58         ...            \n",
       "3    s   59  26  49  103  47   92   82  25  56         ...            \n",
       "4    d   57  49  66  103  64  106  114  28  59         ...            \n",
       "\n",
       "   pred_minus_obs_H_b9  pred_minus_obs_S_b1  pred_minus_obs_S_b2  \\\n",
       "0                -2.36               -18.41                -1.88   \n",
       "1                -2.26               -16.27                -1.95   \n",
       "2                -1.46               -15.92                -1.79   \n",
       "3                 2.68               -13.77                -2.53   \n",
       "4                -2.94               -21.74                -1.64   \n",
       "\n",
       "   pred_minus_obs_S_b3  pred_minus_obs_S_b4  pred_minus_obs_S_b5  \\\n",
       "0                -6.43               -21.03                -1.60   \n",
       "1                -6.25               -18.79                -1.99   \n",
       "2                -4.64               -17.73                -0.48   \n",
       "3                -6.34               -22.03                -2.34   \n",
       "4                -4.62               -23.74                -0.85   \n",
       "\n",
       "   pred_minus_obs_S_b6  pred_minus_obs_S_b7  pred_minus_obs_S_b8  \\\n",
       "0                -6.18               -22.50                -5.20   \n",
       "1                -6.18               -23.41                -8.87   \n",
       "2                -4.69               -19.97                -4.10   \n",
       "3                -6.60               -27.10                -7.99   \n",
       "4                -5.50               -22.83                -2.74   \n",
       "\n",
       "   pred_minus_obs_S_b9  \n",
       "0                -7.86  \n",
       "1               -10.83  \n",
       "2                -7.07  \n",
       "3               -10.81  \n",
       "4                -5.84  \n",
       "\n",
       "[5 rows x 28 columns]"
      ]
     },
     "execution_count": 18,
     "metadata": {},
     "output_type": "execute_result"
    }
   ],
   "source": [
    "train.head()"
   ]
  },
  {
   "cell_type": "code",
   "execution_count": 19,
   "metadata": {},
   "outputs": [],
   "source": [
    "test = pd.read_csv(osp.join(folder, 'testing.csv'))\n",
    "dataset = tf.data.TextLineDataset(osp.join(folder, 'testing.csv'))"
   ]
  },
  {
   "cell_type": "code",
   "execution_count": 20,
   "metadata": {},
   "outputs": [],
   "source": [
    "all_data = pd.concat([train, test])"
   ]
  },
  {
   "cell_type": "code",
   "execution_count": 21,
   "metadata": {},
   "outputs": [],
   "source": [
    "cols_to_norm = [x for x in all_data.columns if x!='class']"
   ]
  },
  {
   "cell_type": "code",
   "execution_count": 22,
   "metadata": {},
   "outputs": [],
   "source": [
    "all_data[cols_to_norm] = all_data[cols_to_norm].apply(lambda x: ((x-x.min())/x.max()-x.min()))"
   ]
  },
  {
   "cell_type": "code",
   "execution_count": 23,
   "metadata": {},
   "outputs": [
    {
     "data": {
      "text/html": [
       "<div>\n",
       "<style scoped>\n",
       "    .dataframe tbody tr th:only-of-type {\n",
       "        vertical-align: middle;\n",
       "    }\n",
       "\n",
       "    .dataframe tbody tr th {\n",
       "        vertical-align: top;\n",
       "    }\n",
       "\n",
       "    .dataframe thead th {\n",
       "        text-align: right;\n",
       "    }\n",
       "</style>\n",
       "<table border=\"1\" class=\"dataframe\">\n",
       "  <thead>\n",
       "    <tr style=\"text-align: right;\">\n",
       "      <th></th>\n",
       "      <th>class</th>\n",
       "      <th>b1</th>\n",
       "      <th>b2</th>\n",
       "      <th>b3</th>\n",
       "      <th>b4</th>\n",
       "      <th>b5</th>\n",
       "      <th>b6</th>\n",
       "      <th>b7</th>\n",
       "      <th>b8</th>\n",
       "      <th>b9</th>\n",
       "      <th>...</th>\n",
       "      <th>pred_minus_obs_H_b9</th>\n",
       "      <th>pred_minus_obs_S_b1</th>\n",
       "      <th>pred_minus_obs_S_b2</th>\n",
       "      <th>pred_minus_obs_S_b3</th>\n",
       "      <th>pred_minus_obs_S_b4</th>\n",
       "      <th>pred_minus_obs_S_b5</th>\n",
       "      <th>pred_minus_obs_S_b6</th>\n",
       "      <th>pred_minus_obs_S_b7</th>\n",
       "      <th>pred_minus_obs_S_b8</th>\n",
       "      <th>pred_minus_obs_S_b9</th>\n",
       "    </tr>\n",
       "  </thead>\n",
       "  <tbody>\n",
       "    <tr>\n",
       "      <th>0</th>\n",
       "      <td>d</td>\n",
       "      <td>-30.925234</td>\n",
       "      <td>-22.91875</td>\n",
       "      <td>-46.948980</td>\n",
       "      <td>-53.784884</td>\n",
       "      <td>-42.84</td>\n",
       "      <td>-82.869565</td>\n",
       "      <td>-41.633094</td>\n",
       "      <td>-18.904762</td>\n",
       "      <td>-44.868421</td>\n",
       "      <td>...</td>\n",
       "      <td>64.117161</td>\n",
       "      <td>35.784308</td>\n",
       "      <td>9.355377</td>\n",
       "      <td>11.858575</td>\n",
       "      <td>50.657234</td>\n",
       "      <td>3.755465</td>\n",
       "      <td>9.377208</td>\n",
       "      <td>37.311662</td>\n",
       "      <td>9.285158</td>\n",
       "      <td>11.211258</td>\n",
       "    </tr>\n",
       "    <tr>\n",
       "      <th>1</th>\n",
       "      <td>h</td>\n",
       "      <td>-30.504673</td>\n",
       "      <td>-22.95625</td>\n",
       "      <td>-46.948980</td>\n",
       "      <td>-53.662791</td>\n",
       "      <td>-42.92</td>\n",
       "      <td>-82.891304</td>\n",
       "      <td>-41.640288</td>\n",
       "      <td>-18.916667</td>\n",
       "      <td>-44.850877</td>\n",
       "      <td>...</td>\n",
       "      <td>64.127599</td>\n",
       "      <td>36.201462</td>\n",
       "      <td>9.349759</td>\n",
       "      <td>11.882999</td>\n",
       "      <td>51.848723</td>\n",
       "      <td>3.642093</td>\n",
       "      <td>9.377208</td>\n",
       "      <td>37.063706</td>\n",
       "      <td>8.870000</td>\n",
       "      <td>10.830000</td>\n",
       "    </tr>\n",
       "    <tr>\n",
       "      <th>2</th>\n",
       "      <td>s</td>\n",
       "      <td>-30.794393</td>\n",
       "      <td>-22.98750</td>\n",
       "      <td>-46.989796</td>\n",
       "      <td>-53.738372</td>\n",
       "      <td>-42.92</td>\n",
       "      <td>-82.927536</td>\n",
       "      <td>-41.697842</td>\n",
       "      <td>-18.916667</td>\n",
       "      <td>-44.885965</td>\n",
       "      <td>...</td>\n",
       "      <td>64.211106</td>\n",
       "      <td>36.269688</td>\n",
       "      <td>9.362600</td>\n",
       "      <td>12.101452</td>\n",
       "      <td>52.412553</td>\n",
       "      <td>4.081047</td>\n",
       "      <td>9.755381</td>\n",
       "      <td>38.001035</td>\n",
       "      <td>9.409593</td>\n",
       "      <td>11.312670</td>\n",
       "    </tr>\n",
       "    <tr>\n",
       "      <th>3</th>\n",
       "      <td>s</td>\n",
       "      <td>-30.738318</td>\n",
       "      <td>-22.98125</td>\n",
       "      <td>-46.989796</td>\n",
       "      <td>-53.715116</td>\n",
       "      <td>-42.96</td>\n",
       "      <td>-82.934783</td>\n",
       "      <td>-41.712230</td>\n",
       "      <td>-18.928571</td>\n",
       "      <td>-44.903509</td>\n",
       "      <td>...</td>\n",
       "      <td>64.643257</td>\n",
       "      <td>36.688791</td>\n",
       "      <td>9.303210</td>\n",
       "      <td>11.870787</td>\n",
       "      <td>50.125319</td>\n",
       "      <td>3.540349</td>\n",
       "      <td>9.270609</td>\n",
       "      <td>36.058256</td>\n",
       "      <td>8.969548</td>\n",
       "      <td>10.832567</td>\n",
       "    </tr>\n",
       "    <tr>\n",
       "      <th>4</th>\n",
       "      <td>d</td>\n",
       "      <td>-30.757009</td>\n",
       "      <td>-22.83750</td>\n",
       "      <td>-46.903061</td>\n",
       "      <td>-53.715116</td>\n",
       "      <td>-42.79</td>\n",
       "      <td>-82.833333</td>\n",
       "      <td>-41.482014</td>\n",
       "      <td>-18.892857</td>\n",
       "      <td>-44.877193</td>\n",
       "      <td>...</td>\n",
       "      <td>64.056618</td>\n",
       "      <td>35.135185</td>\n",
       "      <td>9.374639</td>\n",
       "      <td>12.104166</td>\n",
       "      <td>49.215745</td>\n",
       "      <td>3.973488</td>\n",
       "      <td>9.549797</td>\n",
       "      <td>37.221744</td>\n",
       "      <td>9.563439</td>\n",
       "      <td>11.470565</td>\n",
       "    </tr>\n",
       "  </tbody>\n",
       "</table>\n",
       "<p>5 rows × 28 columns</p>\n",
       "</div>"
      ],
      "text/plain": [
       "  class         b1        b2         b3         b4     b5         b6  \\\n",
       "0    d  -30.925234 -22.91875 -46.948980 -53.784884 -42.84 -82.869565   \n",
       "1    h  -30.504673 -22.95625 -46.948980 -53.662791 -42.92 -82.891304   \n",
       "2    s  -30.794393 -22.98750 -46.989796 -53.738372 -42.92 -82.927536   \n",
       "3    s  -30.738318 -22.98125 -46.989796 -53.715116 -42.96 -82.934783   \n",
       "4    d  -30.757009 -22.83750 -46.903061 -53.715116 -42.79 -82.833333   \n",
       "\n",
       "          b7         b8         b9         ...           pred_minus_obs_H_b9  \\\n",
       "0 -41.633094 -18.904762 -44.868421         ...                     64.117161   \n",
       "1 -41.640288 -18.916667 -44.850877         ...                     64.127599   \n",
       "2 -41.697842 -18.916667 -44.885965         ...                     64.211106   \n",
       "3 -41.712230 -18.928571 -44.903509         ...                     64.643257   \n",
       "4 -41.482014 -18.892857 -44.877193         ...                     64.056618   \n",
       "\n",
       "   pred_minus_obs_S_b1  pred_minus_obs_S_b2  pred_minus_obs_S_b3  \\\n",
       "0            35.784308             9.355377            11.858575   \n",
       "1            36.201462             9.349759            11.882999   \n",
       "2            36.269688             9.362600            12.101452   \n",
       "3            36.688791             9.303210            11.870787   \n",
       "4            35.135185             9.374639            12.104166   \n",
       "\n",
       "   pred_minus_obs_S_b4  pred_minus_obs_S_b5  pred_minus_obs_S_b6  \\\n",
       "0            50.657234             3.755465             9.377208   \n",
       "1            51.848723             3.642093             9.377208   \n",
       "2            52.412553             4.081047             9.755381   \n",
       "3            50.125319             3.540349             9.270609   \n",
       "4            49.215745             3.973488             9.549797   \n",
       "\n",
       "   pred_minus_obs_S_b7  pred_minus_obs_S_b8  pred_minus_obs_S_b9  \n",
       "0            37.311662             9.285158            11.211258  \n",
       "1            37.063706             8.870000            10.830000  \n",
       "2            38.001035             9.409593            11.312670  \n",
       "3            36.058256             8.969548            10.832567  \n",
       "4            37.221744             9.563439            11.470565  \n",
       "\n",
       "[5 rows x 28 columns]"
      ]
     },
     "execution_count": 23,
     "metadata": {},
     "output_type": "execute_result"
    }
   ],
   "source": [
    "all_data.head()"
   ]
  },
  {
   "cell_type": "code",
   "execution_count": 25,
   "metadata": {},
   "outputs": [
    {
     "data": {
      "text/plain": [
       "Index(['class', 'b1', 'b2', 'b3', 'b4', 'b5', 'b6', 'b7', 'b8', 'b9',\n",
       "       'pred_minus_obs_H_b1', 'pred_minus_obs_H_b2', 'pred_minus_obs_H_b3',\n",
       "       'pred_minus_obs_H_b4', 'pred_minus_obs_H_b5', 'pred_minus_obs_H_b6',\n",
       "       'pred_minus_obs_H_b7', 'pred_minus_obs_H_b8', 'pred_minus_obs_H_b9',\n",
       "       'pred_minus_obs_S_b1', 'pred_minus_obs_S_b2', 'pred_minus_obs_S_b3',\n",
       "       'pred_minus_obs_S_b4', 'pred_minus_obs_S_b5', 'pred_minus_obs_S_b6',\n",
       "       'pred_minus_obs_S_b7', 'pred_minus_obs_S_b8', 'pred_minus_obs_S_b9'],\n",
       "      dtype='object')"
      ]
     },
     "execution_count": 25,
     "metadata": {},
     "output_type": "execute_result"
    }
   ],
   "source": [
    "all_data.columns"
   ]
  },
  {
   "cell_type": "code",
   "execution_count": 26,
   "metadata": {},
   "outputs": [],
   "source": [
    "numerics = cols_to_norm\n",
    "for i, col in enumerate(cols_to_norm):\n",
    "    numerics[i] = (tf.feature_column.numeric_column(col))\n",
    "\n",
    "b1 = tf.feature_column.numeric_column(\"b1\")\n",
    "b2 = tf.feature_column.numeric_column(\"b2\")"
   ]
  },
  {
   "cell_type": "code",
   "execution_count": 80,
   "metadata": {},
   "outputs": [
    {
     "name": "stdout",
     "output_type": "stream",
     "text": [
      "[[1 0 0 0]\n",
      " [0 1 0 0]\n",
      " [0 0 0 1]\n",
      " ...\n",
      " [0 0 0 1]\n",
      " [0 0 0 1]\n",
      " [0 1 0 0]]\n"
     ]
    }
   ],
   "source": [
    "from sklearn.preprocessing import LabelEncoder\n",
    "from keras.utils import np_utils\n",
    "from sklearn import preprocessing\n",
    "import warnings\n",
    "\n",
    "warnings.filterwarnings(\"ignore\") \n",
    "\n",
    "#full list of classes\n",
    "category_classes = all_data['class']\n",
    "category_classes = category_classes.reshape(category_classes.shape[0],1)\n",
    "#print(category_classes)\n",
    "#using a label encoder, and binarizer to convert all unique category_ids to have a column for each class \n",
    "le = preprocessing.LabelEncoder() \n",
    "lb = preprocessing.LabelBinarizer()\n",
    "\n",
    "le.fit(all_data['class'])\n",
    "y_encoded = le.transform(all_data['class'])\n",
    "\n",
    "lb.fit(y_encoded)\n",
    "labels = lb.transform(y_encoded)\n",
    "print(labels)"
   ]
  },
  {
   "cell_type": "code",
   "execution_count": 81,
   "metadata": {},
   "outputs": [],
   "source": [
    "from sklearn.model_selection import train_test_split\n",
    "x_data = all_data.drop('class', axis=1)"
   ]
  },
  {
   "cell_type": "code",
   "execution_count": 82,
   "metadata": {},
   "outputs": [],
   "source": [
    "X_train, X_test, y_train, y_test = train_test_split(\n",
    "...     x_data, labels , test_size=0.33, random_state=42)\n",
    "\n"
   ]
  },
  {
   "cell_type": "code",
   "execution_count": 32,
   "metadata": {},
   "outputs": [
    {
     "data": {
      "text/plain": [
       "(350, 4)"
      ]
     },
     "execution_count": 32,
     "metadata": {},
     "output_type": "execute_result"
    }
   ],
   "source": [
    "import numpy as np\n",
    "train_input_fn = tf.estimator.inputs.numpy_input_fn(\n",
    "    x={\"b1\": np.array(X_train['b1']),\n",
    "       \"b2\": np.array(X_train['b2'])},\n",
    "    y=y_train[:,0].astype(np.float32),\n",
    "    num_epochs=None,\n",
    "    shuffle=True)\n",
    "X_train.shape\n",
    "y_train.shape"
   ]
  },
  {
   "cell_type": "code",
   "execution_count": 223,
   "metadata": {},
   "outputs": [
    {
     "name": "stdout",
     "output_type": "stream",
     "text": [
      "INFO:tensorflow:Starting evaluation at 2018-05-06-17:04:25\n",
      "INFO:tensorflow:Restoring parameters from /tmp/tmp28a9nw5b/model.ckpt-1000\n",
      "INFO:tensorflow:Finished evaluation at 2018-05-06-17:05:24\n",
      "INFO:tensorflow:Saving dict for global step 1000: accuracy = 0.69942194, accuracy_baseline = 0.699422, auc = 0.5368722, auc_precision_recall = 0.227957, average_loss = 0.6122155, global_step = 1000, label/mean = 0.30057803, loss = 6.122155, prediction/mean = 0.26860216\n"
     ]
    }
   ],
   "source": [
    "results = classifier.evaluate(eval_input_func)"
   ]
  },
  {
   "cell_type": "code",
   "execution_count": 62,
   "metadata": {},
   "outputs": [],
   "source": [
    "pred_input_func = tf.estimator.inputs.pandas_input_fn(x=X_test, batch_size=10, num_epochs=1, shuffle=False)"
   ]
  },
  {
   "cell_type": "code",
   "execution_count": 63,
   "metadata": {},
   "outputs": [
    {
     "name": "stdout",
     "output_type": "stream",
     "text": [
      "INFO:tensorflow:Restoring parameters from /tmp/tmpARr15W/model.ckpt-1000\n"
     ]
    }
   ],
   "source": [
    "predictions = list(model.predict(pred_input_func))"
   ]
  },
  {
   "cell_type": "code",
   "execution_count": 64,
   "metadata": {},
   "outputs": [
    {
     "data": {
      "text/plain": [
       "[{'class_ids': array([0]),\n",
       "  'classes': array(['0'], dtype=object),\n",
       "  'logistic': array([0.3040337], dtype=float32),\n",
       "  'logits': array([-0.82816267], dtype=float32),\n",
       "  'probabilities': array([0.69596624, 0.3040337 ], dtype=float32)},\n",
       " {'class_ids': array([0]),\n",
       "  'classes': array(['0'], dtype=object),\n",
       "  'logistic': array([0.3072061], dtype=float32),\n",
       "  'logits': array([-0.8132137], dtype=float32),\n",
       "  'probabilities': array([0.6927939, 0.3072061], dtype=float32)},\n",
       " {'class_ids': array([0]),\n",
       "  'classes': array(['0'], dtype=object),\n",
       "  'logistic': array([0.30421323], dtype=float32),\n",
       "  'logits': array([-0.8273144], dtype=float32),\n",
       "  'probabilities': array([0.6957868 , 0.30421323], dtype=float32)},\n",
       " {'class_ids': array([0]),\n",
       "  'classes': array(['0'], dtype=object),\n",
       "  'logistic': array([0.30366597], dtype=float32),\n",
       "  'logits': array([-0.8299012], dtype=float32),\n",
       "  'probabilities': array([0.69633406, 0.30366597], dtype=float32)},\n",
       " {'class_ids': array([0]),\n",
       "  'classes': array(['0'], dtype=object),\n",
       "  'logistic': array([0.30364555], dtype=float32),\n",
       "  'logits': array([-0.8299977], dtype=float32),\n",
       "  'probabilities': array([0.69635445, 0.30364555], dtype=float32)},\n",
       " {'class_ids': array([0]),\n",
       "  'classes': array(['0'], dtype=object),\n",
       "  'logistic': array([0.30364555], dtype=float32),\n",
       "  'logits': array([-0.8299977], dtype=float32),\n",
       "  'probabilities': array([0.69635445, 0.30364555], dtype=float32)},\n",
       " {'class_ids': array([0]),\n",
       "  'classes': array(['0'], dtype=object),\n",
       "  'logistic': array([0.3037907], dtype=float32),\n",
       "  'logits': array([-0.82931143], dtype=float32),\n",
       "  'probabilities': array([0.6962093, 0.3037907], dtype=float32)},\n",
       " {'class_ids': array([0]),\n",
       "  'classes': array(['0'], dtype=object),\n",
       "  'logistic': array([0.30366597], dtype=float32),\n",
       "  'logits': array([-0.8299012], dtype=float32),\n",
       "  'probabilities': array([0.69633406, 0.30366597], dtype=float32)},\n",
       " {'class_ids': array([0]),\n",
       "  'classes': array(['0'], dtype=object),\n",
       "  'logistic': array([0.303507], dtype=float32),\n",
       "  'logits': array([-0.8306531], dtype=float32),\n",
       "  'probabilities': array([0.696493, 0.303507], dtype=float32)},\n",
       " {'class_ids': array([0]),\n",
       "  'classes': array(['0'], dtype=object),\n",
       "  'logistic': array([0.30403045], dtype=float32),\n",
       "  'logits': array([-0.82817805], dtype=float32),\n",
       "  'probabilities': array([0.6959695 , 0.30403045], dtype=float32)},\n",
       " {'class_ids': array([0]),\n",
       "  'classes': array(['0'], dtype=object),\n",
       "  'logistic': array([0.3049376], dtype=float32),\n",
       "  'logits': array([-0.8238945], dtype=float32),\n",
       "  'probabilities': array([0.6950624 , 0.30493757], dtype=float32)},\n",
       " {'class_ids': array([0]),\n",
       "  'classes': array(['0'], dtype=object),\n",
       "  'logistic': array([0.30405736], dtype=float32),\n",
       "  'logits': array([-0.82805085], dtype=float32),\n",
       "  'probabilities': array([0.69594264, 0.30405736], dtype=float32)},\n",
       " {'class_ids': array([0]),\n",
       "  'classes': array(['0'], dtype=object),\n",
       "  'logistic': array([0.30403045], dtype=float32),\n",
       "  'logits': array([-0.82817805], dtype=float32),\n",
       "  'probabilities': array([0.6959695 , 0.30403045], dtype=float32)},\n",
       " {'class_ids': array([0]),\n",
       "  'classes': array(['0'], dtype=object),\n",
       "  'logistic': array([0.3049826], dtype=float32),\n",
       "  'logits': array([-0.8236822], dtype=float32),\n",
       "  'probabilities': array([0.6950174 , 0.30498257], dtype=float32)},\n",
       " {'class_ids': array([0]),\n",
       "  'classes': array(['0'], dtype=object),\n",
       "  'logistic': array([0.3073144], dtype=float32),\n",
       "  'logits': array([-0.8127049], dtype=float32),\n",
       "  'probabilities': array([0.6926856, 0.3073144], dtype=float32)},\n",
       " {'class_ids': array([0]),\n",
       "  'classes': array(['0'], dtype=object),\n",
       "  'logistic': array([0.30397663], dtype=float32),\n",
       "  'logits': array([-0.82843244], dtype=float32),\n",
       "  'probabilities': array([0.69602334, 0.30397663], dtype=float32)},\n",
       " {'class_ids': array([0]),\n",
       "  'classes': array(['0'], dtype=object),\n",
       "  'logistic': array([0.3040133], dtype=float32),\n",
       "  'logits': array([-0.828259], dtype=float32),\n",
       "  'probabilities': array([0.6959867 , 0.30401334], dtype=float32)},\n",
       " {'class_ids': array([0]),\n",
       "  'classes': array(['0'], dtype=object),\n",
       "  'logistic': array([0.305573], dtype=float32),\n",
       "  'logits': array([-0.8208984], dtype=float32),\n",
       "  'probabilities': array([0.694427, 0.305573], dtype=float32)},\n",
       " {'class_ids': array([0]),\n",
       "  'classes': array(['0'], dtype=object),\n",
       "  'logistic': array([0.30546743], dtype=float32),\n",
       "  'logits': array([-0.8213959], dtype=float32),\n",
       "  'probabilities': array([0.6945326 , 0.30546746], dtype=float32)},\n",
       " {'class_ids': array([0]),\n",
       "  'classes': array(['0'], dtype=object),\n",
       "  'logistic': array([0.3041553], dtype=float32),\n",
       "  'logits': array([-0.8275882], dtype=float32),\n",
       "  'probabilities': array([0.6958447 , 0.30415526], dtype=float32)},\n",
       " {'class_ids': array([0]),\n",
       "  'classes': array(['0'], dtype=object),\n",
       "  'logistic': array([0.30394235], dtype=float32),\n",
       "  'logits': array([-0.82859445], dtype=float32),\n",
       "  'probabilities': array([0.6960576 , 0.30394235], dtype=float32)},\n",
       " {'class_ids': array([0]),\n",
       "  'classes': array(['0'], dtype=object),\n",
       "  'logistic': array([0.30361214], dtype=float32),\n",
       "  'logits': array([-0.8301557], dtype=float32),\n",
       "  'probabilities': array([0.6963878 , 0.30361214], dtype=float32)},\n",
       " {'class_ids': array([0]),\n",
       "  'classes': array(['0'], dtype=object),\n",
       "  'logistic': array([0.30398965], dtype=float32),\n",
       "  'logits': array([-0.8283708], dtype=float32),\n",
       "  'probabilities': array([0.6960103 , 0.30398965], dtype=float32)},\n",
       " {'class_ids': array([0]),\n",
       "  'classes': array(['0'], dtype=object),\n",
       "  'logistic': array([0.30377027], dtype=float32),\n",
       "  'logits': array([-0.82940793], dtype=float32),\n",
       "  'probabilities': array([0.6962297 , 0.30377027], dtype=float32)},\n",
       " {'class_ids': array([0]),\n",
       "  'classes': array(['0'], dtype=object),\n",
       "  'logistic': array([0.3043381], dtype=float32),\n",
       "  'logits': array([-0.8267245], dtype=float32),\n",
       "  'probabilities': array([0.69566184, 0.30433807], dtype=float32)},\n",
       " {'class_ids': array([0]),\n",
       "  'classes': array(['0'], dtype=object),\n",
       "  'logistic': array([0.3052842], dtype=float32),\n",
       "  'logits': array([-0.82225966], dtype=float32),\n",
       "  'probabilities': array([0.69471574, 0.3052842 ], dtype=float32)},\n",
       " {'class_ids': array([0]),\n",
       "  'classes': array(['0'], dtype=object),\n",
       "  'logistic': array([0.3035575], dtype=float32),\n",
       "  'logits': array([-0.8304142], dtype=float32),\n",
       "  'probabilities': array([0.6964425 , 0.30355752], dtype=float32)},\n",
       " {'class_ids': array([0]),\n",
       "  'classes': array(['0'], dtype=object),\n",
       "  'logistic': array([0.30432504], dtype=float32),\n",
       "  'logits': array([-0.82678616], dtype=float32),\n",
       "  'probabilities': array([0.69567496, 0.30432504], dtype=float32)},\n",
       " {'class_ids': array([0]),\n",
       "  'classes': array(['0'], dtype=object),\n",
       "  'logistic': array([0.30419934], dtype=float32),\n",
       "  'logits': array([-0.82738006], dtype=float32),\n",
       "  'probabilities': array([0.6958007 , 0.30419937], dtype=float32)},\n",
       " {'class_ids': array([0]),\n",
       "  'classes': array(['0'], dtype=object),\n",
       "  'logistic': array([0.30425733], dtype=float32),\n",
       "  'logits': array([-0.8271061], dtype=float32),\n",
       "  'probabilities': array([0.6957427 , 0.30425733], dtype=float32)},\n",
       " {'class_ids': array([0]),\n",
       "  'classes': array(['0'], dtype=object),\n",
       "  'logistic': array([0.30606902], dtype=float32),\n",
       "  'logits': array([-0.8185619], dtype=float32),\n",
       "  'probabilities': array([0.693931  , 0.30606902], dtype=float32)},\n",
       " {'class_ids': array([0]),\n",
       "  'classes': array(['0'], dtype=object),\n",
       "  'logistic': array([0.30428424], dtype=float32),\n",
       "  'logits': array([-0.8269789], dtype=float32),\n",
       "  'probabilities': array([0.6957157 , 0.30428424], dtype=float32)},\n",
       " {'class_ids': array([0]),\n",
       "  'classes': array(['0'], dtype=object),\n",
       "  'logistic': array([0.3040476], dtype=float32),\n",
       "  'logits': array([-0.828097], dtype=float32),\n",
       "  'probabilities': array([0.6959524, 0.3040476], dtype=float32)},\n",
       " {'class_ids': array([0]),\n",
       "  'classes': array(['0'], dtype=object),\n",
       "  'logistic': array([0.30501932], dtype=float32),\n",
       "  'logits': array([-0.8235089], dtype=float32),\n",
       "  'probabilities': array([0.6949807 , 0.30501932], dtype=float32)},\n",
       " {'class_ids': array([0]),\n",
       "  'classes': array(['0'], dtype=object),\n",
       "  'logistic': array([0.30515176], dtype=float32),\n",
       "  'logits': array([-0.8228842], dtype=float32),\n",
       "  'probabilities': array([0.69484824, 0.3051518 ], dtype=float32)},\n",
       " {'class_ids': array([0]),\n",
       "  'classes': array(['0'], dtype=object),\n",
       "  'logistic': array([0.30398315], dtype=float32),\n",
       "  'logits': array([-0.8284016], dtype=float32),\n",
       "  'probabilities': array([0.69601685, 0.30398312], dtype=float32)},\n",
       " {'class_ids': array([0]),\n",
       "  'classes': array(['0'], dtype=object),\n",
       "  'logistic': array([0.30378088], dtype=float32),\n",
       "  'logits': array([-0.8293577], dtype=float32),\n",
       "  'probabilities': array([0.6962191 , 0.30378088], dtype=float32)},\n",
       " {'class_ids': array([0]),\n",
       "  'classes': array(['0'], dtype=object),\n",
       "  'logistic': array([0.305974], dtype=float32),\n",
       "  'logits': array([-0.8190092], dtype=float32),\n",
       "  'probabilities': array([0.694026  , 0.30597404], dtype=float32)},\n",
       " {'class_ids': array([0]),\n",
       "  'classes': array(['0'], dtype=object),\n",
       "  'logistic': array([0.30623198], dtype=float32),\n",
       "  'logits': array([-0.8177946], dtype=float32),\n",
       "  'probabilities': array([0.69376796, 0.30623198], dtype=float32)},\n",
       " {'class_ids': array([0]),\n",
       "  'classes': array(['0'], dtype=object),\n",
       "  'logistic': array([0.3041422], dtype=float32),\n",
       "  'logits': array([-0.82764983], dtype=float32),\n",
       "  'probabilities': array([0.69585776, 0.30414224], dtype=float32)},\n",
       " {'class_ids': array([0]),\n",
       "  'classes': array(['0'], dtype=object),\n",
       "  'logistic': array([0.30669507], dtype=float32),\n",
       "  'logits': array([-0.815616], dtype=float32),\n",
       "  'probabilities': array([0.69330496, 0.30669507], dtype=float32)},\n",
       " {'class_ids': array([0]),\n",
       "  'classes': array(['0'], dtype=object),\n",
       "  'logistic': array([0.30355427], dtype=float32),\n",
       "  'logits': array([-0.83042943], dtype=float32),\n",
       "  'probabilities': array([0.6964457 , 0.30355427], dtype=float32)},\n",
       " {'class_ids': array([0]),\n",
       "  'classes': array(['0'], dtype=object),\n",
       "  'logistic': array([0.3041316], dtype=float32),\n",
       "  'logits': array([-0.8277], dtype=float32),\n",
       "  'probabilities': array([0.6958684, 0.3041316], dtype=float32)},\n",
       " {'class_ids': array([0]),\n",
       "  'classes': array(['0'], dtype=object),\n",
       "  'logistic': array([0.30613375], dtype=float32),\n",
       "  'logits': array([-0.8182572], dtype=float32),\n",
       "  'probabilities': array([0.69386625, 0.30613372], dtype=float32)},\n",
       " {'class_ids': array([0]),\n",
       "  'classes': array(['0'], dtype=object),\n",
       "  'logistic': array([0.3048706], dtype=float32),\n",
       "  'logits': array([-0.8242105], dtype=float32),\n",
       "  'probabilities': array([0.6951294 , 0.30487064], dtype=float32)},\n",
       " {'class_ids': array([0]),\n",
       "  'classes': array(['0'], dtype=object),\n",
       "  'logistic': array([0.30352736], dtype=float32),\n",
       "  'logits': array([-0.83055675], dtype=float32),\n",
       "  'probabilities': array([0.69647264, 0.30352736], dtype=float32)},\n",
       " {'class_ids': array([0]),\n",
       "  'classes': array(['0'], dtype=object),\n",
       "  'logistic': array([0.3071207], dtype=float32),\n",
       "  'logits': array([-0.81361496], dtype=float32),\n",
       "  'probabilities': array([0.6928793, 0.3071207], dtype=float32)},\n",
       " {'class_ids': array([0]),\n",
       "  'classes': array(['0'], dtype=object),\n",
       "  'logistic': array([0.30417565], dtype=float32),\n",
       "  'logits': array([-0.8274919], dtype=float32),\n",
       "  'probabilities': array([0.6958244, 0.3041757], dtype=float32)},\n",
       " {'class_ids': array([0]),\n",
       "  'classes': array(['0'], dtype=object),\n",
       "  'logistic': array([0.30494496], dtype=float32),\n",
       "  'logits': array([-0.8238597], dtype=float32),\n",
       "  'probabilities': array([0.695055  , 0.30494496], dtype=float32)},\n",
       " {'class_ids': array([0]),\n",
       "  'classes': array(['0'], dtype=object),\n",
       "  'logistic': array([0.3056753], dtype=float32),\n",
       "  'logits': array([-0.82041633], dtype=float32),\n",
       "  'probabilities': array([0.6943247, 0.3056753], dtype=float32)},\n",
       " {'class_ids': array([0]),\n",
       "  'classes': array(['0'], dtype=object),\n",
       "  'logistic': array([0.30526137], dtype=float32),\n",
       "  'logits': array([-0.8223673], dtype=float32),\n",
       "  'probabilities': array([0.6947386 , 0.30526137], dtype=float32)},\n",
       " {'class_ids': array([0]),\n",
       "  'classes': array(['0'], dtype=object),\n",
       "  'logistic': array([0.30831096], dtype=float32),\n",
       "  'logits': array([-0.80802774], dtype=float32),\n",
       "  'probabilities': array([0.6916891 , 0.30831096], dtype=float32)},\n",
       " {'class_ids': array([0]),\n",
       "  'classes': array(['0'], dtype=object),\n",
       "  'logistic': array([0.30411205], dtype=float32),\n",
       "  'logits': array([-0.8277924], dtype=float32),\n",
       "  'probabilities': array([0.695888  , 0.30411208], dtype=float32)},\n",
       " {'class_ids': array([0]),\n",
       "  'classes': array(['0'], dtype=object),\n",
       "  'logistic': array([0.30381435], dtype=float32),\n",
       "  'logits': array([-0.8291996], dtype=float32),\n",
       "  'probabilities': array([0.69618565, 0.30381432], dtype=float32)},\n",
       " {'class_ids': array([0]),\n",
       "  'classes': array(['0'], dtype=object),\n",
       "  'logistic': array([0.3070223], dtype=float32),\n",
       "  'logits': array([-0.8140775], dtype=float32),\n",
       "  'probabilities': array([0.6929777, 0.3070223], dtype=float32)},\n",
       " {'class_ids': array([0]),\n",
       "  'classes': array(['0'], dtype=object),\n",
       "  'logistic': array([0.30494824], dtype=float32),\n",
       "  'logits': array([-0.8238443], dtype=float32),\n",
       "  'probabilities': array([0.6950518 , 0.30494824], dtype=float32)},\n",
       " {'class_ids': array([0]),\n",
       "  'classes': array(['0'], dtype=object),\n",
       "  'logistic': array([0.30390245], dtype=float32),\n",
       "  'logits': array([-0.82878315], dtype=float32),\n",
       "  'probabilities': array([0.6960976 , 0.30390245], dtype=float32)},\n",
       " {'class_ids': array([0]),\n",
       "  'classes': array(['0'], dtype=object),\n",
       "  'logistic': array([0.30390894], dtype=float32),\n",
       "  'logits': array([-0.8287524], dtype=float32),\n",
       "  'probabilities': array([0.69609106, 0.30390894], dtype=float32)},\n",
       " {'class_ids': array([0]),\n",
       "  'classes': array(['0'], dtype=object),\n",
       "  'logistic': array([0.30410796], dtype=float32),\n",
       "  'logits': array([-0.82781184], dtype=float32),\n",
       "  'probabilities': array([0.6958921 , 0.30410796], dtype=float32)},\n",
       " {'class_ids': array([0]),\n",
       "  'classes': array(['0'], dtype=object),\n",
       "  'logistic': array([0.30382818], dtype=float32),\n",
       "  'logits': array([-0.8291341], dtype=float32),\n",
       "  'probabilities': array([0.6961718, 0.3038282], dtype=float32)},\n",
       " {'class_ids': array([0]),\n",
       "  'classes': array(['0'], dtype=object),\n",
       "  'logistic': array([0.3055821], dtype=float32),\n",
       "  'logits': array([-0.82085544], dtype=float32),\n",
       "  'probabilities': array([0.6944179, 0.3055821], dtype=float32)},\n",
       " {'class_ids': array([0]),\n",
       "  'classes': array(['0'], dtype=object),\n",
       "  'logistic': array([0.30531207], dtype=float32),\n",
       "  'logits': array([-0.8221283], dtype=float32),\n",
       "  'probabilities': array([0.6946879 , 0.30531207], dtype=float32)},\n",
       " {'class_ids': array([0]),\n",
       "  'classes': array(['0'], dtype=object),\n",
       "  'logistic': array([0.30416918], dtype=float32),\n",
       "  'logits': array([-0.8275225], dtype=float32),\n",
       "  'probabilities': array([0.6958308 , 0.30416918], dtype=float32)},\n",
       " {'class_ids': array([0]),\n",
       "  'classes': array(['0'], dtype=object),\n",
       "  'logistic': array([0.30422714], dtype=float32),\n",
       "  'logits': array([-0.8272487], dtype=float32),\n",
       "  'probabilities': array([0.6957729 , 0.30422714], dtype=float32)},\n",
       " {'class_ids': array([0]),\n",
       "  'classes': array(['0'], dtype=object),\n",
       "  'logistic': array([0.30620497], dtype=float32),\n",
       "  'logits': array([-0.81792176], dtype=float32),\n",
       "  'probabilities': array([0.693795, 0.306205], dtype=float32)},\n",
       " {'class_ids': array([0]),\n",
       "  'classes': array(['0'], dtype=object),\n",
       "  'logistic': array([0.3049376], dtype=float32),\n",
       "  'logits': array([-0.8238945], dtype=float32),\n",
       "  'probabilities': array([0.6950624 , 0.30493757], dtype=float32)},\n",
       " {'class_ids': array([0]),\n",
       "  'classes': array(['0'], dtype=object),\n",
       "  'logistic': array([0.30352736], dtype=float32),\n",
       "  'logits': array([-0.83055675], dtype=float32),\n",
       "  'probabilities': array([0.69647264, 0.30352736], dtype=float32)},\n",
       " {'class_ids': array([0]),\n",
       "  'classes': array(['0'], dtype=object),\n",
       "  'logistic': array([0.3072923], dtype=float32),\n",
       "  'logits': array([-0.8128087], dtype=float32),\n",
       "  'probabilities': array([0.6927077, 0.3072923], dtype=float32)},\n",
       " {'class_ids': array([0]),\n",
       "  'classes': array(['0'], dtype=object),\n",
       "  'logistic': array([0.30692956], dtype=float32),\n",
       "  'logits': array([-0.8145133], dtype=float32),\n",
       "  'probabilities': array([0.6930705, 0.3069296], dtype=float32)},\n",
       " {'class_ids': array([0]),\n",
       "  'classes': array(['0'], dtype=object),\n",
       "  'logistic': array([0.30436915], dtype=float32),\n",
       "  'logits': array([-0.8265779], dtype=float32),\n",
       "  'probabilities': array([0.69563085, 0.30436915], dtype=float32)},\n",
       " {'class_ids': array([0]),\n",
       "  'classes': array(['0'], dtype=object),\n",
       "  'logistic': array([0.30630088], dtype=float32),\n",
       "  'logits': array([-0.8174705], dtype=float32),\n",
       "  'probabilities': array([0.6936991 , 0.30630088], dtype=float32)},\n",
       " {'class_ids': array([0]),\n",
       "  'classes': array(['0'], dtype=object),\n",
       "  'logistic': array([0.30454466], dtype=float32),\n",
       "  'logits': array([-0.8257491], dtype=float32),\n",
       "  'probabilities': array([0.6954553 , 0.30454463], dtype=float32)},\n",
       " {'class_ids': array([0]),\n",
       "  'classes': array(['0'], dtype=object),\n",
       "  'logistic': array([0.30554926], dtype=float32),\n",
       "  'logits': array([-0.82101023], dtype=float32),\n",
       "  'probabilities': array([0.69445074, 0.30554926], dtype=float32)},\n",
       " {'class_ids': array([0]),\n",
       "  'classes': array(['0'], dtype=object),\n",
       "  'logistic': array([0.30386162], dtype=float32),\n",
       "  'logits': array([-0.82897604], dtype=float32),\n",
       "  'probabilities': array([0.6961384 , 0.30386162], dtype=float32)},\n",
       " {'class_ids': array([0]),\n",
       "  'classes': array(['0'], dtype=object),\n",
       "  'logistic': array([0.3058856], dtype=float32),\n",
       "  'logits': array([-0.8194256], dtype=float32),\n",
       "  'probabilities': array([0.6941143 , 0.30588558], dtype=float32)},\n",
       " {'class_ids': array([0]),\n",
       "  'classes': array(['0'], dtype=object),\n",
       "  'logistic': array([0.30667457], dtype=float32),\n",
       "  'logits': array([-0.8157124], dtype=float32),\n",
       "  'probabilities': array([0.6933254 , 0.30667454], dtype=float32)},\n",
       " {'class_ids': array([0]),\n",
       "  'classes': array(['0'], dtype=object),\n",
       "  'logistic': array([0.30509043], dtype=float32),\n",
       "  'logits': array([-0.8231735], dtype=float32),\n",
       "  'probabilities': array([0.6949096 , 0.30509043], dtype=float32)},\n",
       " {'class_ids': array([0]),\n",
       "  'classes': array(['0'], dtype=object),\n",
       "  'logistic': array([0.30640984], dtype=float32),\n",
       "  'logits': array([-0.8169577], dtype=float32),\n",
       "  'probabilities': array([0.69359016, 0.30640984], dtype=float32)},\n",
       " {'class_ids': array([0]),\n",
       "  'classes': array(['0'], dtype=object),\n",
       "  'logistic': array([0.3040843], dtype=float32),\n",
       "  'logits': array([-0.8279236], dtype=float32),\n",
       "  'probabilities': array([0.6959157 , 0.30408427], dtype=float32)},\n",
       " {'class_ids': array([0]),\n",
       "  'classes': array(['0'], dtype=object),\n",
       "  'logistic': array([0.30430466], dtype=float32),\n",
       "  'logits': array([-0.8268825], dtype=float32),\n",
       "  'probabilities': array([0.69569534, 0.30430466], dtype=float32)},\n",
       " {'class_ids': array([0]),\n",
       "  'classes': array(['0'], dtype=object),\n",
       "  'logistic': array([0.30424017], dtype=float32),\n",
       "  'logits': array([-0.8271871], dtype=float32),\n",
       "  'probabilities': array([0.69575983, 0.30424017], dtype=float32)},\n",
       " {'class_ids': array([0]),\n",
       "  'classes': array(['0'], dtype=object),\n",
       "  'logistic': array([0.30437568], dtype=float32),\n",
       "  'logits': array([-0.8265471], dtype=float32),\n",
       "  'probabilities': array([0.69562435, 0.30437568], dtype=float32)},\n",
       " {'class_ids': array([0]),\n",
       "  'classes': array(['0'], dtype=object),\n",
       "  'logistic': array([0.30471128], dtype=float32),\n",
       "  'logits': array([-0.8249624], dtype=float32),\n",
       "  'probabilities': array([0.6952887, 0.3047113], dtype=float32)},\n",
       " {'class_ids': array([0]),\n",
       "  'classes': array(['0'], dtype=object),\n",
       "  'logistic': array([0.30410796], dtype=float32),\n",
       "  'logits': array([-0.82781184], dtype=float32),\n",
       "  'probabilities': array([0.6958921 , 0.30410796], dtype=float32)},\n",
       " {'class_ids': array([0]),\n",
       "  'classes': array(['0'], dtype=object),\n",
       "  'logistic': array([0.30556315], dtype=float32),\n",
       "  'logits': array([-0.8209447], dtype=float32),\n",
       "  'probabilities': array([0.69443685, 0.30556315], dtype=float32)},\n",
       " {'class_ids': array([0]),\n",
       "  'classes': array(['0'], dtype=object),\n",
       "  'logistic': array([0.30417982], dtype=float32),\n",
       "  'logits': array([-0.8274723], dtype=float32),\n",
       "  'probabilities': array([0.6958202, 0.3041798], dtype=float32)},\n",
       " {'class_ids': array([0]),\n",
       "  'classes': array(['0'], dtype=object),\n",
       "  'logistic': array([0.3040843], dtype=float32),\n",
       "  'logits': array([-0.8279236], dtype=float32),\n",
       "  'probabilities': array([0.6959157 , 0.30408427], dtype=float32)},\n",
       " {'class_ids': array([0]),\n",
       "  'classes': array(['0'], dtype=object),\n",
       "  'logistic': array([0.30357462], dtype=float32),\n",
       "  'logits': array([-0.8303331], dtype=float32),\n",
       "  'probabilities': array([0.6964254 , 0.30357465], dtype=float32)},\n",
       " {'class_ids': array([0]),\n",
       "  'classes': array(['0'], dtype=object),\n",
       "  'logistic': array([0.30491388], dtype=float32),\n",
       "  'logits': array([-0.8240063], dtype=float32),\n",
       "  'probabilities': array([0.6950861 , 0.30491388], dtype=float32)},\n",
       " {'class_ids': array([0]),\n",
       "  'classes': array(['0'], dtype=object),\n",
       "  'logistic': array([0.30558607], dtype=float32),\n",
       "  'logits': array([-0.82083684], dtype=float32),\n",
       "  'probabilities': array([0.69441396, 0.30558607], dtype=float32)},\n",
       " {'class_ids': array([0]),\n",
       "  'classes': array(['0'], dtype=object),\n",
       "  'logistic': array([0.30600432], dtype=float32),\n",
       "  'logits': array([-0.81886655], dtype=float32),\n",
       "  'probabilities': array([0.6939957 , 0.30600432], dtype=float32)},\n",
       " {'class_ids': array([0]),\n",
       "  'classes': array(['0'], dtype=object),\n",
       "  'logistic': array([0.30616075], dtype=float32),\n",
       "  'logits': array([-0.81813], dtype=float32),\n",
       "  'probabilities': array([0.69383925, 0.30616075], dtype=float32)},\n",
       " {'class_ids': array([0]),\n",
       "  'classes': array(['0'], dtype=object),\n",
       "  'logistic': array([0.30423036], dtype=float32),\n",
       "  'logits': array([-0.8272334], dtype=float32),\n",
       "  'probabilities': array([0.69576967, 0.3042304 ], dtype=float32)},\n",
       " {'class_ids': array([0]),\n",
       "  'classes': array(['0'], dtype=object),\n",
       "  'logistic': array([0.30554926], dtype=float32),\n",
       "  'logits': array([-0.82101023], dtype=float32),\n",
       "  'probabilities': array([0.69445074, 0.30554926], dtype=float32)},\n",
       " {'class_ids': array([0]),\n",
       "  'classes': array(['0'], dtype=object),\n",
       "  'logistic': array([0.311982], dtype=float32),\n",
       "  'logits': array([-0.7908695], dtype=float32),\n",
       "  'probabilities': array([0.688018, 0.311982], dtype=float32)},\n",
       " {'class_ids': array([0]),\n",
       "  'classes': array(['0'], dtype=object),\n",
       "  'logistic': array([0.30407453], dtype=float32),\n",
       "  'logits': array([-0.8279698], dtype=float32),\n",
       "  'probabilities': array([0.6959255 , 0.30407453], dtype=float32)},\n",
       " {'class_ids': array([0]),\n",
       "  'classes': array(['0'], dtype=object),\n",
       "  'logistic': array([0.30604857], dtype=float32),\n",
       "  'logits': array([-0.81865823], dtype=float32),\n",
       "  'probabilities': array([0.6939514 , 0.30604854], dtype=float32)},\n",
       " {'class_ids': array([0]),\n",
       "  'classes': array(['0'], dtype=object),\n",
       "  'logistic': array([0.30440587], dtype=float32),\n",
       "  'logits': array([-0.82640445], dtype=float32),\n",
       "  'probabilities': array([0.69559413, 0.30440587], dtype=float32)},\n",
       " {'class_ids': array([0]),\n",
       "  'classes': array(['0'], dtype=object),\n",
       "  'logistic': array([0.3049965], dtype=float32),\n",
       "  'logits': array([-0.8236166], dtype=float32),\n",
       "  'probabilities': array([0.69500357, 0.30499652], dtype=float32)},\n",
       " {'class_ids': array([0]),\n",
       "  'classes': array(['0'], dtype=object),\n",
       "  'logistic': array([0.30520985], dtype=float32),\n",
       "  'logits': array([-0.8226104], dtype=float32),\n",
       "  'probabilities': array([0.6947902 , 0.30520985], dtype=float32)},\n",
       " {'class_ids': array([0]),\n",
       "  'classes': array(['0'], dtype=object),\n",
       "  'logistic': array([0.3052303], dtype=float32),\n",
       "  'logits': array([-0.82251394], dtype=float32),\n",
       "  'probabilities': array([0.69476974, 0.3052303 ], dtype=float32)},\n",
       " {'class_ids': array([0]),\n",
       "  'classes': array(['0'], dtype=object),\n",
       "  'logistic': array([0.30532512], dtype=float32),\n",
       "  'logits': array([-0.8220667], dtype=float32),\n",
       "  'probabilities': array([0.69467485, 0.30532512], dtype=float32)},\n",
       " {'class_ids': array([0]),\n",
       "  'classes': array(['0'], dtype=object),\n",
       "  'logistic': array([0.30407453], dtype=float32),\n",
       "  'logits': array([-0.8279698], dtype=float32),\n",
       "  'probabilities': array([0.6959255 , 0.30407453], dtype=float32)},\n",
       " {'class_ids': array([0]),\n",
       "  'classes': array(['0'], dtype=object),\n",
       "  'logistic': array([0.30641314], dtype=float32),\n",
       "  'logits': array([-0.8169422], dtype=float32),\n",
       "  'probabilities': array([0.6935869, 0.3064131], dtype=float32)},\n",
       " {'class_ids': array([0]),\n",
       "  'classes': array(['0'], dtype=object),\n",
       "  'logistic': array([0.30507085], dtype=float32),\n",
       "  'logits': array([-0.8232659], dtype=float32),\n",
       "  'probabilities': array([0.6949292 , 0.30507085], dtype=float32)},\n",
       " {'class_ids': array([0]),\n",
       "  'classes': array(['0'], dtype=object),\n",
       "  'logistic': array([0.3046018], dtype=float32),\n",
       "  'logits': array([-0.8254793], dtype=float32),\n",
       "  'probabilities': array([0.6953982, 0.3046018], dtype=float32)},\n",
       " {'class_ids': array([0]),\n",
       "  'classes': array(['0'], dtype=object),\n",
       "  'logistic': array([0.30369282], dtype=float32),\n",
       "  'logits': array([-0.82977414], dtype=float32),\n",
       "  'probabilities': array([0.6963072 , 0.30369282], dtype=float32)},\n",
       " {'class_ids': array([0]),\n",
       "  'classes': array(['0'], dtype=object),\n",
       "  'logistic': array([0.30564415], dtype=float32),\n",
       "  'logits': array([-0.820563], dtype=float32),\n",
       "  'probabilities': array([0.69435585, 0.30564415], dtype=float32)},\n",
       " {'class_ids': array([0]),\n",
       "  'classes': array(['0'], dtype=object),\n",
       "  'logistic': array([0.30652124], dtype=float32),\n",
       "  'logits': array([-0.81643355], dtype=float32),\n",
       "  'probabilities': array([0.69347876, 0.30652127], dtype=float32)},\n",
       " {'class_ids': array([0]),\n",
       "  'classes': array(['0'], dtype=object),\n",
       "  'logistic': array([0.3037434], dtype=float32),\n",
       "  'logits': array([-0.829535], dtype=float32),\n",
       "  'probabilities': array([0.6962566, 0.3037434], dtype=float32)},\n",
       " {'class_ids': array([0]),\n",
       "  'classes': array(['0'], dtype=object),\n",
       "  'logistic': array([0.3041316], dtype=float32),\n",
       "  'logits': array([-0.8277], dtype=float32),\n",
       "  'probabilities': array([0.6958684, 0.3041316], dtype=float32)},\n",
       " {'class_ids': array([0]),\n",
       "  'classes': array(['0'], dtype=object),\n",
       "  'logistic': array([0.30427036], dtype=float32),\n",
       "  'logits': array([-0.8270446], dtype=float32),\n",
       "  'probabilities': array([0.6957297 , 0.30427036], dtype=float32)},\n",
       " {'class_ids': array([0]),\n",
       "  'classes': array(['0'], dtype=object),\n",
       "  'logistic': array([0.30348662], dtype=float32),\n",
       "  'logits': array([-0.8307495], dtype=float32),\n",
       "  'probabilities': array([0.69651335, 0.30348662], dtype=float32)},\n",
       " {'class_ids': array([0]),\n",
       "  'classes': array(['0'], dtype=object),\n",
       "  'logistic': array([0.30359828], dtype=float32),\n",
       "  'logits': array([-0.8302213], dtype=float32),\n",
       "  'probabilities': array([0.6964017 , 0.30359828], dtype=float32)},\n",
       " {'class_ids': array([0]),\n",
       "  'classes': array(['0'], dtype=object),\n",
       "  'logistic': array([0.3048469], dtype=float32),\n",
       "  'logits': array([-0.82432234], dtype=float32),\n",
       "  'probabilities': array([0.69515306, 0.3048469 ], dtype=float32)},\n",
       " {'class_ids': array([0]),\n",
       "  'classes': array(['0'], dtype=object),\n",
       "  'logistic': array([0.30397663], dtype=float32),\n",
       "  'logits': array([-0.82843244], dtype=float32),\n",
       "  'probabilities': array([0.69602334, 0.30397663], dtype=float32)},\n",
       " {'class_ids': array([0]),\n",
       "  'classes': array(['0'], dtype=object),\n",
       "  'logistic': array([0.304223], dtype=float32),\n",
       "  'logits': array([-0.82726824], dtype=float32),\n",
       "  'probabilities': array([0.69577706, 0.304223  ], dtype=float32)},\n",
       " {'class_ids': array([0]),\n",
       "  'classes': array(['0'], dtype=object),\n",
       "  'logistic': array([0.30524093], dtype=float32),\n",
       "  'logits': array([-0.82246375], dtype=float32),\n",
       "  'probabilities': array([0.6947591, 0.3052409], dtype=float32)},\n",
       " {'class_ids': array([0]),\n",
       "  'classes': array(['0'], dtype=object),\n",
       "  'logistic': array([0.3044541], dtype=float32),\n",
       "  'logits': array([-0.82617676], dtype=float32),\n",
       "  'probabilities': array([0.6955459 , 0.30445406], dtype=float32)},\n",
       " {'class_ids': array([0]),\n",
       "  'classes': array(['0'], dtype=object),\n",
       "  'logistic': array([0.3034361], dtype=float32),\n",
       "  'logits': array([-0.8309885], dtype=float32),\n",
       "  'probabilities': array([0.69656396, 0.30343613], dtype=float32)},\n",
       " {'class_ids': array([0]),\n",
       "  'classes': array(['0'], dtype=object),\n",
       "  'logistic': array([0.3044582], dtype=float32),\n",
       "  'logits': array([-0.8261574], dtype=float32),\n",
       "  'probabilities': array([0.69554186, 0.3044582 ], dtype=float32)},\n",
       " {'class_ids': array([0]),\n",
       "  'classes': array(['0'], dtype=object),\n",
       "  'logistic': array([0.30431443], dtype=float32),\n",
       "  'logits': array([-0.82683635], dtype=float32),\n",
       "  'probabilities': array([0.69568557, 0.3043144 ], dtype=float32)},\n",
       " {'class_ids': array([0]),\n",
       "  'classes': array(['0'], dtype=object),\n",
       "  'logistic': array([0.303507], dtype=float32),\n",
       "  'logits': array([-0.8306531], dtype=float32),\n",
       "  'probabilities': array([0.696493, 0.303507], dtype=float32)},\n",
       " {'class_ids': array([0]),\n",
       "  'classes': array(['0'], dtype=object),\n",
       "  'logistic': array([0.3051011], dtype=float32),\n",
       "  'logits': array([-0.82312316], dtype=float32),\n",
       "  'probabilities': array([0.6948989 , 0.30510113], dtype=float32)},\n",
       " {'class_ids': array([0]),\n",
       "  'classes': array(['0'], dtype=object),\n",
       "  'logistic': array([0.30575627], dtype=float32),\n",
       "  'logits': array([-0.8200348], dtype=float32),\n",
       "  'probabilities': array([0.6942437 , 0.30575627], dtype=float32)},\n",
       " {'class_ids': array([0]),\n",
       "  'classes': array(['0'], dtype=object),\n",
       "  'logistic': array([0.30595028], dtype=float32),\n",
       "  'logits': array([-0.81912094], dtype=float32),\n",
       "  'probabilities': array([0.6940497 , 0.30595028], dtype=float32)},\n",
       " {'class_ids': array([0]),\n",
       "  'classes': array(['0'], dtype=object),\n",
       "  'logistic': array([0.30388528], dtype=float32),\n",
       "  'logits': array([-0.8288642], dtype=float32),\n",
       "  'probabilities': array([0.69611466, 0.30388525], dtype=float32)},\n",
       " {'class_ids': array([0]),\n",
       "  'classes': array(['0'], dtype=object),\n",
       "  'logistic': array([0.30566135], dtype=float32),\n",
       "  'logits': array([-0.820482], dtype=float32),\n",
       "  'probabilities': array([0.6943387 , 0.30566135], dtype=float32)},\n",
       " {'class_ids': array([0]),\n",
       "  'classes': array(['0'], dtype=object),\n",
       "  'logistic': array([0.30444995], dtype=float32),\n",
       "  'logits': array([-0.8261963], dtype=float32),\n",
       "  'probabilities': array([0.6955501 , 0.30444995], dtype=float32)},\n",
       " {'class_ids': array([0]),\n",
       "  'classes': array(['0'], dtype=object),\n",
       "  'logistic': array([0.30373687], dtype=float32),\n",
       "  'logits': array([-0.8295659], dtype=float32),\n",
       "  'probabilities': array([0.69626313, 0.30373687], dtype=float32)},\n",
       " {'class_ids': array([0]),\n",
       "  'classes': array(['0'], dtype=object),\n",
       "  'logistic': array([0.30668113], dtype=float32),\n",
       "  'logits': array([-0.8156816], dtype=float32),\n",
       "  'probabilities': array([0.6933189 , 0.30668113], dtype=float32)},\n",
       " {'class_ids': array([0]),\n",
       "  'classes': array(['0'], dtype=object),\n",
       "  'logistic': array([0.30378744], dtype=float32),\n",
       "  'logits': array([-0.82932687], dtype=float32),\n",
       "  'probabilities': array([0.69621253, 0.30378738], dtype=float32)},\n",
       " {'class_ids': array([0]),\n",
       "  'classes': array(['0'], dtype=object),\n",
       "  'logistic': array([0.30429074], dtype=float32),\n",
       "  'logits': array([-0.82694817], dtype=float32),\n",
       "  'probabilities': array([0.6957092 , 0.30429074], dtype=float32)},\n",
       " {'class_ids': array([0]),\n",
       "  'classes': array(['0'], dtype=object),\n",
       "  'logistic': array([0.30566463], dtype=float32),\n",
       "  'logits': array([-0.8204666], dtype=float32),\n",
       "  'probabilities': array([0.6943354 , 0.30566463], dtype=float32)},\n",
       " {'class_ids': array([0]),\n",
       "  'classes': array(['0'], dtype=object),\n",
       "  'logistic': array([0.305573], dtype=float32),\n",
       "  'logits': array([-0.8208984], dtype=float32),\n",
       "  'probabilities': array([0.694427, 0.305573], dtype=float32)},\n",
       " {'class_ids': array([0]),\n",
       "  'classes': array(['0'], dtype=object),\n",
       "  'logistic': array([0.3041961], dtype=float32),\n",
       "  'logits': array([-0.8273954], dtype=float32),\n",
       "  'probabilities': array([0.69580394, 0.3041961 ], dtype=float32)},\n",
       " {'class_ids': array([0]),\n",
       "  'classes': array(['0'], dtype=object),\n",
       "  'logistic': array([0.30728075], dtype=float32),\n",
       "  'logits': array([-0.812863], dtype=float32),\n",
       "  'probabilities': array([0.6927193 , 0.30728075], dtype=float32)},\n",
       " {'class_ids': array([0]),\n",
       "  'classes': array(['0'], dtype=object),\n",
       "  'logistic': array([0.30729058], dtype=float32),\n",
       "  'logits': array([-0.81281674], dtype=float32),\n",
       "  'probabilities': array([0.6927094 , 0.30729058], dtype=float32)},\n",
       " {'class_ids': array([0]),\n",
       "  'classes': array(['0'], dtype=object),\n",
       "  'logistic': array([0.30385512], dtype=float32),\n",
       "  'logits': array([-0.8290068], dtype=float32),\n",
       "  'probabilities': array([0.6961448 , 0.30385512], dtype=float32)},\n",
       " {'class_ids': array([0]),\n",
       "  'classes': array(['0'], dtype=object),\n",
       "  'logistic': array([0.30510762], dtype=float32),\n",
       "  'logits': array([-0.82309246], dtype=float32),\n",
       "  'probabilities': array([0.69489235, 0.3051076 ], dtype=float32)},\n",
       " {'class_ids': array([0]),\n",
       "  'classes': array(['0'], dtype=object),\n",
       "  'logistic': array([0.30393583], dtype=float32),\n",
       "  'logits': array([-0.82862526], dtype=float32),\n",
       "  'probabilities': array([0.6960642 , 0.30393583], dtype=float32)},\n",
       " {'class_ids': array([0]),\n",
       "  'classes': array(['0'], dtype=object),\n",
       "  'logistic': array([0.30611324], dtype=float32),\n",
       "  'logits': array([-0.81835365], dtype=float32),\n",
       "  'probabilities': array([0.69388676, 0.30611324], dtype=float32)},\n",
       " {'class_ids': array([0]),\n",
       "  'classes': array(['0'], dtype=object),\n",
       "  'logistic': array([0.30420998], dtype=float32),\n",
       "  'logits': array([-0.82732975], dtype=float32),\n",
       "  'probabilities': array([0.69579   , 0.30420998], dtype=float32)},\n",
       " {'class_ids': array([0]),\n",
       "  'classes': array(['0'], dtype=object),\n",
       "  'logistic': array([0.30385837], dtype=float32),\n",
       "  'logits': array([-0.8289915], dtype=float32),\n",
       "  'probabilities': array([0.6961416 , 0.30385834], dtype=float32)},\n",
       " {'class_ids': array([0]),\n",
       "  'classes': array(['0'], dtype=object),\n",
       "  'logistic': array([0.30561388], dtype=float32),\n",
       "  'logits': array([-0.82070565], dtype=float32),\n",
       "  'probabilities': array([0.6943861, 0.3056139], dtype=float32)},\n",
       " {'class_ids': array([0]),\n",
       "  'classes': array(['0'], dtype=object),\n",
       "  'logistic': array([0.30389264], dtype=float32),\n",
       "  'logits': array([-0.8288294], dtype=float32),\n",
       "  'probabilities': array([0.6961073 , 0.30389264], dtype=float32)},\n",
       " {'class_ids': array([0]),\n",
       "  'classes': array(['0'], dtype=object),\n",
       "  'logistic': array([0.30395624], dtype=float32),\n",
       "  'logits': array([-0.82852876], dtype=float32),\n",
       "  'probabilities': array([0.6960437 , 0.30395624], dtype=float32)},\n",
       " {'class_ids': array([0]),\n",
       "  'classes': array(['0'], dtype=object),\n",
       "  'logistic': array([0.30412185], dtype=float32),\n",
       "  'logits': array([-0.82774615], dtype=float32),\n",
       "  'probabilities': array([0.69587815, 0.30412185], dtype=float32)},\n",
       " {'class_ids': array([0]),\n",
       "  'classes': array(['0'], dtype=object),\n",
       "  'logistic': array([0.3057702], dtype=float32),\n",
       "  'logits': array([-0.8199692], dtype=float32),\n",
       "  'probabilities': array([0.69422984, 0.30577022], dtype=float32)},\n",
       " {'class_ids': array([0]),\n",
       "  'classes': array(['0'], dtype=object),\n",
       "  'logistic': array([0.30683443], dtype=float32),\n",
       "  'logits': array([-0.81496054], dtype=float32),\n",
       "  'probabilities': array([0.6931656 , 0.30683446], dtype=float32)},\n",
       " {'class_ids': array([0]),\n",
       "  'classes': array(['0'], dtype=object),\n",
       "  'logistic': array([0.3051485], dtype=float32),\n",
       "  'logits': array([-0.8228996], dtype=float32),\n",
       "  'probabilities': array([0.6948515, 0.3051485], dtype=float32)},\n",
       " {'class_ids': array([0]),\n",
       "  'classes': array(['0'], dtype=object),\n",
       "  'logistic': array([0.30389917], dtype=float32),\n",
       "  'logits': array([-0.82879865], dtype=float32),\n",
       "  'probabilities': array([0.69610083, 0.30389914], dtype=float32)},\n",
       " {'class_ids': array([0]),\n",
       "  'classes': array(['0'], dtype=object),\n",
       "  'logistic': array([0.3050398], dtype=float32),\n",
       "  'logits': array([-0.8234124], dtype=float32),\n",
       "  'probabilities': array([0.69496024, 0.3050398 ], dtype=float32)},\n",
       " {'class_ids': array([0]),\n",
       "  'classes': array(['0'], dtype=object),\n",
       "  'logistic': array([0.30367246], dtype=float32),\n",
       "  'logits': array([-0.82987046], dtype=float32),\n",
       "  'probabilities': array([0.69632757, 0.3036725 ], dtype=float32)},\n",
       " {'class_ids': array([0]),\n",
       "  'classes': array(['0'], dtype=object),\n",
       "  'logistic': array([0.30595356], dtype=float32),\n",
       "  'logits': array([-0.8191055], dtype=float32),\n",
       "  'probabilities': array([0.69404644, 0.30595356], dtype=float32)},\n",
       " {'class_ids': array([0]),\n",
       "  'classes': array(['0'], dtype=object),\n",
       "  'logistic': array([0.3061067], dtype=float32),\n",
       "  'logits': array([-0.81838447], dtype=float32),\n",
       "  'probabilities': array([0.6938933, 0.3061067], dtype=float32)},\n",
       " {'class_ids': array([0]),\n",
       "  'classes': array(['0'], dtype=object),\n",
       "  'logistic': array([0.30441734], dtype=float32),\n",
       "  'logits': array([-0.8263502], dtype=float32),\n",
       "  'probabilities': array([0.6955827 , 0.30441737], dtype=float32)},\n",
       " {'class_ids': array([0]),\n",
       "  'classes': array(['0'], dtype=object),\n",
       "  'logistic': array([0.30366597], dtype=float32),\n",
       "  'logits': array([-0.8299012], dtype=float32),\n",
       "  'probabilities': array([0.69633406, 0.30366597], dtype=float32)},\n",
       " {'class_ids': array([0]),\n",
       "  'classes': array(['0'], dtype=object),\n",
       "  'logistic': array([0.30369282], dtype=float32),\n",
       "  'logits': array([-0.82977414], dtype=float32),\n",
       "  'probabilities': array([0.6963072 , 0.30369282], dtype=float32)},\n",
       " {'class_ids': array([0]),\n",
       "  'classes': array(['0'], dtype=object),\n",
       "  'logistic': array([0.3043487], dtype=float32),\n",
       "  'logits': array([-0.82667434], dtype=float32),\n",
       "  'probabilities': array([0.69565123, 0.3043487 ], dtype=float32)},\n",
       " {'class_ids': array([0]),\n",
       "  'classes': array(['0'], dtype=object),\n",
       "  'logistic': array([0.30565804], dtype=float32),\n",
       "  'logits': array([-0.8204975], dtype=float32),\n",
       "  'probabilities': array([0.69434196, 0.30565807], dtype=float32)},\n",
       " {'class_ids': array([0]),\n",
       "  'classes': array(['0'], dtype=object),\n",
       "  'logistic': array([0.30424342], dtype=float32),\n",
       "  'logits': array([-0.8271718], dtype=float32),\n",
       "  'probabilities': array([0.6957566 , 0.30424342], dtype=float32)},\n",
       " {'class_ids': array([0]),\n",
       "  'classes': array(['0'], dtype=object),\n",
       "  'logistic': array([0.30628362], dtype=float32),\n",
       "  'logits': array([-0.8175516], dtype=float32),\n",
       "  'probabilities': array([0.69371635, 0.30628362], dtype=float32)},\n",
       " {'class_ids': array([0]),\n",
       "  'classes': array(['0'], dtype=object),\n",
       "  'logistic': array([0.30386162], dtype=float32),\n",
       "  'logits': array([-0.82897604], dtype=float32),\n",
       "  'probabilities': array([0.6961384 , 0.30386162], dtype=float32)},\n",
       " {'class_ids': array([0]),\n",
       "  'classes': array(['0'], dtype=object),\n",
       "  'logistic': array([0.30665818], dtype=float32),\n",
       "  'logits': array([-0.81578946], dtype=float32),\n",
       "  'probabilities': array([0.6933418 , 0.30665815], dtype=float32)},\n",
       " {'class_ids': array([0]),\n",
       "  'classes': array(['0'], dtype=object),\n",
       "  'logistic': array([0.30365205], dtype=float32),\n",
       "  'logits': array([-0.8299669], dtype=float32),\n",
       "  'probabilities': array([0.6963479 , 0.30365205], dtype=float32)},\n",
       " {'class_ids': array([0]),\n",
       "  'classes': array(['0'], dtype=object),\n",
       "  'logistic': array([0.30362192], dtype=float32),\n",
       "  'logits': array([-0.8301095], dtype=float32),\n",
       "  'probabilities': array([0.6963781 , 0.30362192], dtype=float32)},\n",
       " {'class_ids': array([0]),\n",
       "  'classes': array(['0'], dtype=object),\n",
       "  'logistic': array([0.3034597], dtype=float32),\n",
       "  'logits': array([-0.8308767], dtype=float32),\n",
       "  'probabilities': array([0.6965403 , 0.30345973], dtype=float32)},\n",
       " {'class_ids': array([0]),\n",
       "  'classes': array(['0'], dtype=object),\n",
       "  'logistic': array([0.3041047], dtype=float32),\n",
       "  'logits': array([-0.8278273], dtype=float32),\n",
       "  'probabilities': array([0.6958953, 0.3041047], dtype=float32)},\n",
       " {'class_ids': array([0]),\n",
       "  'classes': array(['0'], dtype=object),\n",
       "  'logistic': array([0.30547154], dtype=float32),\n",
       "  'logits': array([-0.82137644], dtype=float32),\n",
       "  'probabilities': array([0.69452846, 0.30547157], dtype=float32)},\n",
       " {'class_ids': array([0]),\n",
       "  'classes': array(['0'], dtype=object),\n",
       "  'logistic': array([0.30636147], dtype=float32),\n",
       "  'logits': array([-0.8171854], dtype=float32),\n",
       "  'probabilities': array([0.69363856, 0.30636147], dtype=float32)},\n",
       " {'class_ids': array([0]),\n",
       "  'classes': array(['0'], dtype=object),\n",
       "  'logistic': array([0.30436915], dtype=float32),\n",
       "  'logits': array([-0.8265779], dtype=float32),\n",
       "  'probabilities': array([0.69563085, 0.30436915], dtype=float32)},\n",
       " {'class_ids': array([0]),\n",
       "  'classes': array(['0'], dtype=object),\n",
       "  'logistic': array([0.30659994], dtype=float32),\n",
       "  'logits': array([-0.8160633], dtype=float32),\n",
       "  'probabilities': array([0.6934    , 0.30659994], dtype=float32)}]"
      ]
     },
     "execution_count": 64,
     "metadata": {},
     "output_type": "execute_result"
    }
   ],
   "source": [
    "predictions"
   ]
  },
  {
   "cell_type": "code",
   "execution_count": 227,
   "metadata": {},
   "outputs": [
    {
     "name": "stdout",
     "output_type": "stream",
     "text": [
      "Baseline: 34.57% (10.26%)\n"
     ]
    }
   ],
   "source": [
    "# Keras multi-class classification\n",
    "import numpy\n",
    "import pandas\n",
    "from keras.models import Sequential\n",
    "from keras.layers import Dense\n",
    "from keras.wrappers.scikit_learn import KerasClassifier\n",
    "from keras.utils import np_utils\n",
    "from sklearn.model_selection import cross_val_score\n",
    "from sklearn.model_selection import KFold\n",
    "from sklearn.preprocessing import LabelEncoder\n",
    "from sklearn.pipeline import Pipeline\n",
    "\n",
    "def baseline_model():\n",
    "\t# create model\n",
    "\tmodel = Sequential()\n",
    "\tmodel.add(Dense(8, input_dim=27, activation='relu'))\n",
    "\tmodel.add(Dense(4, activation='softmax'))\n",
    "\t# Compile model\n",
    "\tmodel.compile(loss='categorical_crossentropy', optimizer='adam', metrics=['accuracy'])\n",
    "\treturn model\n",
    "\n",
    "estimator = KerasClassifier(build_fn=baseline_model, epochs=200, batch_size=5, verbose=0)\n",
    "kfold = KFold(n_splits=10, shuffle=True, random_state=333)\n",
    "results = cross_val_score(estimator, X_train, y_train, cv=kfold)\n",
    "print(\"Baseline: %.2f%% (%.2f%%)\" % (results.mean()*100, results.std()*100))"
   ]
  },
  {
   "cell_type": "code",
   "execution_count": 35,
   "metadata": {},
   "outputs": [
    {
     "name": "stdout",
     "output_type": "stream",
     "text": [
      "(350, 27) (350, 4)\n"
     ]
    }
   ],
   "source": [
    "print(X_train.shape, y_train.shape)"
   ]
  },
  {
   "cell_type": "code",
   "execution_count": 8,
   "metadata": {},
   "outputs": [],
   "source": [
    "import numpy as np\n",
    "import tensorflow as tf\n",
    "from sklearn import datasets"
   ]
  },
  {
   "cell_type": "code",
   "execution_count": 75,
   "metadata": {},
   "outputs": [],
   "source": [
    "num_labels = 4 # number of classes\n",
    "def accuracy(predictions, labels):\n",
    "    return (100.0 * np.sum(np.argmax(predictions, 1) == np.argmax(labels, 1))\n",
    "            / predictions.shape[0])\n",
    "\n",
    "data = X_train.as_matrix().astype(np.float32)\n",
    "labels = np.array(y_train).astype(np.float32)\n"
   ]
  },
  {
   "cell_type": "code",
   "execution_count": 76,
   "metadata": {},
   "outputs": [],
   "source": [
    "feature_size = data.shape[1]\n",
    "\n",
    "graph = tf.Graph()\n",
    "\n",
    "with graph.as_default():\n",
    "    tf_train_dataset = tf.constant(data)\n",
    "    tf_train_labels = tf.constant(labels)\n",
    "\n",
    "    weights = tf.Variable(tf.truncated_normal([feature_size, num_labels]))\n",
    "    biases = tf.Variable(tf.zeros([num_labels]))\n",
    "\n",
    "    logits = tf.matmul(tf_train_dataset, weights) + biases\n",
    "    loss = tf.reduce_mean(\n",
    "        tf.nn.softmax_cross_entropy_with_logits(logits=tf.matmul(tf_train_dataset, weights) + biases, \n",
    "                                                labels=tf_train_labels))\n",
    "\n",
    "    optimizer = tf.train.AdamOptimizer(0.1).minimize(loss)\n",
    "    train_prediction = tf.nn.softmax(logits)"
   ]
  },
  {
   "cell_type": "code",
   "execution_count": 78,
   "metadata": {},
   "outputs": [
    {
     "name": "stdout",
     "output_type": "stream",
     "text": [
      "step:0 loss:89.840698 accuracy: 30.57\n",
      "step:500 loss:8.520969 accuracy: 42.86\n",
      "step:1000 loss:17.680866 accuracy: 42.86\n",
      "step:1500 loss:38.540817 accuracy: 24.29\n",
      "step:2000 loss:13.424989 accuracy: 31.71\n",
      "step:2500 loss:14.652645 accuracy: 30.57\n",
      "step:3000 loss:15.658694 accuracy: 40.00\n",
      "step:3500 loss:19.911228 accuracy: 43.43\n",
      "step:4000 loss:29.969830 accuracy: 38.86\n",
      "step:4500 loss:23.135708 accuracy: 38.86\n",
      "step:5000 loss:10.527897 accuracy: 41.71\n",
      "step:5500 loss:22.140282 accuracy: 40.57\n",
      "step:6000 loss:7.266673 accuracy: 40.57\n",
      "step:6500 loss:20.463501 accuracy: 48.86\n",
      "step:7000 loss:2.098557 accuracy: 62.86\n",
      "step:7500 loss:3.226445 accuracy: 54.57\n",
      "step:8000 loss:17.667854 accuracy: 39.14\n",
      "step:8500 loss:0.669783 accuracy: 86.00\n",
      "step:9000 loss:0.632440 accuracy: 85.71\n",
      "step:9500 loss:15.092363 accuracy: 31.71\n",
      "step:10000 loss:15.055720 accuracy: 31.71\n",
      "[[9.99999046e-01 3.76364044e-12 4.69294773e-31 1.00967850e-06]\n",
      " [9.99988198e-01 3.77002457e-11 1.68010398e-30 1.17577902e-05]\n",
      " [9.99869585e-01 5.69057190e-15 3.92715436e-38 1.30353597e-04]\n",
      " ...\n",
      " [1.00000000e+00 4.57981821e-16 1.03880175e-13 3.71174489e-12]\n",
      " [1.00000000e+00 2.71385756e-15 1.51342619e-21 1.77696331e-14]\n",
      " [9.99992847e-01 1.09023571e-11 2.82934761e-32 7.09610731e-06]] [[0. 1. 0. 0.]\n",
      " [0. 1. 0. 0.]\n",
      " [0. 0. 0. 1.]\n",
      " ...\n",
      " [0. 0. 1. 0.]\n",
      " [0. 0. 1. 0.]\n",
      " [0. 1. 0. 0.]]\n"
     ]
    }
   ],
   "source": [
    "with tf.Session(graph=graph) as session:\n",
    "    tf.initialize_all_variables().run()\n",
    "    for step in range(10001):\n",
    "        _, l, predictions = session.run([optimizer, loss, train_prediction])\n",
    "        if step % 500 == 0:\n",
    "            print('step:{} loss:{:.6f} accuracy: {:.2f}'.format(\n",
    "                    step, l, accuracy(predictions, labels)))\n",
    "print(predictions, labels)"
   ]
  }
 ],
 "metadata": {
  "kernelspec": {
   "display_name": "Python 3",
   "language": "python",
   "name": "python3"
  },
  "language_info": {
   "codemirror_mode": {
    "name": "ipython",
    "version": 3
   },
   "file_extension": ".py",
   "mimetype": "text/x-python",
   "name": "python",
   "nbconvert_exporter": "python",
   "pygments_lexer": "ipython3",
   "version": "3.6.4"
  }
 },
 "nbformat": 4,
 "nbformat_minor": 2
}
